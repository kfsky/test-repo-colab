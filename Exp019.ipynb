{
  "nbformat": 4,
  "nbformat_minor": 0,
  "metadata": {
    "colab": {
      "name": "Exp019.ipynb",
      "provenance": [],
      "collapsed_sections": [],
      "machine_shape": "hm",
      "mount_file_id": "1yaZkvon9P-H8aAGis_pcJa5dev6ZWuOl",
      "authorship_tag": "ABX9TyM8QasXHSmI3kjFdirMW6vh",
      "include_colab_link": true
    },
    "kernelspec": {
      "name": "python3",
      "display_name": "Python 3"
    },
    "language_info": {
      "name": "python"
    },
    "accelerator": "GPU",
    "widgets": {
      "application/vnd.jupyter.widget-state+json": {
        "4a8fc0e7a6a1446192f9c46089e0800c": {
          "model_module": "@jupyter-widgets/controls",
          "model_name": "HBoxModel",
          "model_module_version": "1.5.0",
          "state": {
            "_view_name": "HBoxView",
            "_dom_classes": [],
            "_model_name": "HBoxModel",
            "_view_module": "@jupyter-widgets/controls",
            "_model_module_version": "1.5.0",
            "_view_count": null,
            "_view_module_version": "1.5.0",
            "box_style": "",
            "layout": "IPY_MODEL_90899abe5f9d4e9cbbb475d490f1182c",
            "_model_module": "@jupyter-widgets/controls",
            "children": [
              "IPY_MODEL_6ab7ef788f564367811650d43f0a6cfc",
              "IPY_MODEL_6874b4fca42d4f48937e03dc0476a1f3",
              "IPY_MODEL_2c2abbb117504b41a06b5af0461276ae"
            ]
          }
        },
        "90899abe5f9d4e9cbbb475d490f1182c": {
          "model_module": "@jupyter-widgets/base",
          "model_name": "LayoutModel",
          "model_module_version": "1.2.0",
          "state": {
            "_view_name": "LayoutView",
            "grid_template_rows": null,
            "right": null,
            "justify_content": null,
            "_view_module": "@jupyter-widgets/base",
            "overflow": null,
            "_model_module_version": "1.2.0",
            "_view_count": null,
            "flex_flow": null,
            "width": null,
            "min_width": null,
            "border": null,
            "align_items": null,
            "bottom": null,
            "_model_module": "@jupyter-widgets/base",
            "top": null,
            "grid_column": null,
            "overflow_y": null,
            "overflow_x": null,
            "grid_auto_flow": null,
            "grid_area": null,
            "grid_template_columns": null,
            "flex": null,
            "_model_name": "LayoutModel",
            "justify_items": null,
            "grid_row": null,
            "max_height": null,
            "align_content": null,
            "visibility": null,
            "align_self": null,
            "height": null,
            "min_height": null,
            "padding": null,
            "grid_auto_rows": null,
            "grid_gap": null,
            "max_width": null,
            "order": null,
            "_view_module_version": "1.2.0",
            "grid_template_areas": null,
            "object_position": null,
            "object_fit": null,
            "grid_auto_columns": null,
            "margin": null,
            "display": null,
            "left": null
          }
        },
        "6ab7ef788f564367811650d43f0a6cfc": {
          "model_module": "@jupyter-widgets/controls",
          "model_name": "HTMLModel",
          "model_module_version": "1.5.0",
          "state": {
            "_view_name": "HTMLView",
            "style": "IPY_MODEL_6dcda5d2ac2445f1af51f19d2fc422f6",
            "_dom_classes": [],
            "description": "",
            "_model_name": "HTMLModel",
            "placeholder": "​",
            "_view_module": "@jupyter-widgets/controls",
            "_model_module_version": "1.5.0",
            "value": "Downloading: 100%",
            "_view_count": null,
            "_view_module_version": "1.5.0",
            "description_tooltip": null,
            "_model_module": "@jupyter-widgets/controls",
            "layout": "IPY_MODEL_899547931e5a47088b87e42471adc78a"
          }
        },
        "6874b4fca42d4f48937e03dc0476a1f3": {
          "model_module": "@jupyter-widgets/controls",
          "model_name": "FloatProgressModel",
          "model_module_version": "1.5.0",
          "state": {
            "_view_name": "ProgressView",
            "style": "IPY_MODEL_d437014795ce4d74ac51f0e940496b40",
            "_dom_classes": [],
            "description": "",
            "_model_name": "FloatProgressModel",
            "bar_style": "success",
            "max": 898823,
            "_view_module": "@jupyter-widgets/controls",
            "_model_module_version": "1.5.0",
            "value": 898823,
            "_view_count": null,
            "_view_module_version": "1.5.0",
            "orientation": "horizontal",
            "min": 0,
            "description_tooltip": null,
            "_model_module": "@jupyter-widgets/controls",
            "layout": "IPY_MODEL_5a832c514a3e4278b4810576c43126bb"
          }
        },
        "2c2abbb117504b41a06b5af0461276ae": {
          "model_module": "@jupyter-widgets/controls",
          "model_name": "HTMLModel",
          "model_module_version": "1.5.0",
          "state": {
            "_view_name": "HTMLView",
            "style": "IPY_MODEL_c0b65048584847dbabcc76bd8876aa49",
            "_dom_classes": [],
            "description": "",
            "_model_name": "HTMLModel",
            "placeholder": "​",
            "_view_module": "@jupyter-widgets/controls",
            "_model_module_version": "1.5.0",
            "value": " 899k/899k [00:00&lt;00:00, 2.14MB/s]",
            "_view_count": null,
            "_view_module_version": "1.5.0",
            "description_tooltip": null,
            "_model_module": "@jupyter-widgets/controls",
            "layout": "IPY_MODEL_66f056c7c5264bbba006f70f8f768c6b"
          }
        },
        "6dcda5d2ac2445f1af51f19d2fc422f6": {
          "model_module": "@jupyter-widgets/controls",
          "model_name": "DescriptionStyleModel",
          "model_module_version": "1.5.0",
          "state": {
            "_view_name": "StyleView",
            "_model_name": "DescriptionStyleModel",
            "description_width": "",
            "_view_module": "@jupyter-widgets/base",
            "_model_module_version": "1.5.0",
            "_view_count": null,
            "_view_module_version": "1.2.0",
            "_model_module": "@jupyter-widgets/controls"
          }
        },
        "899547931e5a47088b87e42471adc78a": {
          "model_module": "@jupyter-widgets/base",
          "model_name": "LayoutModel",
          "model_module_version": "1.2.0",
          "state": {
            "_view_name": "LayoutView",
            "grid_template_rows": null,
            "right": null,
            "justify_content": null,
            "_view_module": "@jupyter-widgets/base",
            "overflow": null,
            "_model_module_version": "1.2.0",
            "_view_count": null,
            "flex_flow": null,
            "width": null,
            "min_width": null,
            "border": null,
            "align_items": null,
            "bottom": null,
            "_model_module": "@jupyter-widgets/base",
            "top": null,
            "grid_column": null,
            "overflow_y": null,
            "overflow_x": null,
            "grid_auto_flow": null,
            "grid_area": null,
            "grid_template_columns": null,
            "flex": null,
            "_model_name": "LayoutModel",
            "justify_items": null,
            "grid_row": null,
            "max_height": null,
            "align_content": null,
            "visibility": null,
            "align_self": null,
            "height": null,
            "min_height": null,
            "padding": null,
            "grid_auto_rows": null,
            "grid_gap": null,
            "max_width": null,
            "order": null,
            "_view_module_version": "1.2.0",
            "grid_template_areas": null,
            "object_position": null,
            "object_fit": null,
            "grid_auto_columns": null,
            "margin": null,
            "display": null,
            "left": null
          }
        },
        "d437014795ce4d74ac51f0e940496b40": {
          "model_module": "@jupyter-widgets/controls",
          "model_name": "ProgressStyleModel",
          "model_module_version": "1.5.0",
          "state": {
            "_view_name": "StyleView",
            "_model_name": "ProgressStyleModel",
            "description_width": "",
            "_view_module": "@jupyter-widgets/base",
            "_model_module_version": "1.5.0",
            "_view_count": null,
            "_view_module_version": "1.2.0",
            "bar_color": null,
            "_model_module": "@jupyter-widgets/controls"
          }
        },
        "5a832c514a3e4278b4810576c43126bb": {
          "model_module": "@jupyter-widgets/base",
          "model_name": "LayoutModel",
          "model_module_version": "1.2.0",
          "state": {
            "_view_name": "LayoutView",
            "grid_template_rows": null,
            "right": null,
            "justify_content": null,
            "_view_module": "@jupyter-widgets/base",
            "overflow": null,
            "_model_module_version": "1.2.0",
            "_view_count": null,
            "flex_flow": null,
            "width": null,
            "min_width": null,
            "border": null,
            "align_items": null,
            "bottom": null,
            "_model_module": "@jupyter-widgets/base",
            "top": null,
            "grid_column": null,
            "overflow_y": null,
            "overflow_x": null,
            "grid_auto_flow": null,
            "grid_area": null,
            "grid_template_columns": null,
            "flex": null,
            "_model_name": "LayoutModel",
            "justify_items": null,
            "grid_row": null,
            "max_height": null,
            "align_content": null,
            "visibility": null,
            "align_self": null,
            "height": null,
            "min_height": null,
            "padding": null,
            "grid_auto_rows": null,
            "grid_gap": null,
            "max_width": null,
            "order": null,
            "_view_module_version": "1.2.0",
            "grid_template_areas": null,
            "object_position": null,
            "object_fit": null,
            "grid_auto_columns": null,
            "margin": null,
            "display": null,
            "left": null
          }
        },
        "c0b65048584847dbabcc76bd8876aa49": {
          "model_module": "@jupyter-widgets/controls",
          "model_name": "DescriptionStyleModel",
          "model_module_version": "1.5.0",
          "state": {
            "_view_name": "StyleView",
            "_model_name": "DescriptionStyleModel",
            "description_width": "",
            "_view_module": "@jupyter-widgets/base",
            "_model_module_version": "1.5.0",
            "_view_count": null,
            "_view_module_version": "1.2.0",
            "_model_module": "@jupyter-widgets/controls"
          }
        },
        "66f056c7c5264bbba006f70f8f768c6b": {
          "model_module": "@jupyter-widgets/base",
          "model_name": "LayoutModel",
          "model_module_version": "1.2.0",
          "state": {
            "_view_name": "LayoutView",
            "grid_template_rows": null,
            "right": null,
            "justify_content": null,
            "_view_module": "@jupyter-widgets/base",
            "overflow": null,
            "_model_module_version": "1.2.0",
            "_view_count": null,
            "flex_flow": null,
            "width": null,
            "min_width": null,
            "border": null,
            "align_items": null,
            "bottom": null,
            "_model_module": "@jupyter-widgets/base",
            "top": null,
            "grid_column": null,
            "overflow_y": null,
            "overflow_x": null,
            "grid_auto_flow": null,
            "grid_area": null,
            "grid_template_columns": null,
            "flex": null,
            "_model_name": "LayoutModel",
            "justify_items": null,
            "grid_row": null,
            "max_height": null,
            "align_content": null,
            "visibility": null,
            "align_self": null,
            "height": null,
            "min_height": null,
            "padding": null,
            "grid_auto_rows": null,
            "grid_gap": null,
            "max_width": null,
            "order": null,
            "_view_module_version": "1.2.0",
            "grid_template_areas": null,
            "object_position": null,
            "object_fit": null,
            "grid_auto_columns": null,
            "margin": null,
            "display": null,
            "left": null
          }
        },
        "64ade5bcf42541bfb5d958909df88858": {
          "model_module": "@jupyter-widgets/controls",
          "model_name": "HBoxModel",
          "model_module_version": "1.5.0",
          "state": {
            "_view_name": "HBoxView",
            "_dom_classes": [],
            "_model_name": "HBoxModel",
            "_view_module": "@jupyter-widgets/controls",
            "_model_module_version": "1.5.0",
            "_view_count": null,
            "_view_module_version": "1.5.0",
            "box_style": "",
            "layout": "IPY_MODEL_efa3d6c3f49140ad836445e722ee6225",
            "_model_module": "@jupyter-widgets/controls",
            "children": [
              "IPY_MODEL_4aabdddf9be7466d85a22962b60950f2",
              "IPY_MODEL_5a264ac9c4464e9e84c5c13e009f85cd",
              "IPY_MODEL_c079dcc855a748d5b03a5e7c08499edc"
            ]
          }
        },
        "efa3d6c3f49140ad836445e722ee6225": {
          "model_module": "@jupyter-widgets/base",
          "model_name": "LayoutModel",
          "model_module_version": "1.2.0",
          "state": {
            "_view_name": "LayoutView",
            "grid_template_rows": null,
            "right": null,
            "justify_content": null,
            "_view_module": "@jupyter-widgets/base",
            "overflow": null,
            "_model_module_version": "1.2.0",
            "_view_count": null,
            "flex_flow": null,
            "width": null,
            "min_width": null,
            "border": null,
            "align_items": null,
            "bottom": null,
            "_model_module": "@jupyter-widgets/base",
            "top": null,
            "grid_column": null,
            "overflow_y": null,
            "overflow_x": null,
            "grid_auto_flow": null,
            "grid_area": null,
            "grid_template_columns": null,
            "flex": null,
            "_model_name": "LayoutModel",
            "justify_items": null,
            "grid_row": null,
            "max_height": null,
            "align_content": null,
            "visibility": null,
            "align_self": null,
            "height": null,
            "min_height": null,
            "padding": null,
            "grid_auto_rows": null,
            "grid_gap": null,
            "max_width": null,
            "order": null,
            "_view_module_version": "1.2.0",
            "grid_template_areas": null,
            "object_position": null,
            "object_fit": null,
            "grid_auto_columns": null,
            "margin": null,
            "display": null,
            "left": null
          }
        },
        "4aabdddf9be7466d85a22962b60950f2": {
          "model_module": "@jupyter-widgets/controls",
          "model_name": "HTMLModel",
          "model_module_version": "1.5.0",
          "state": {
            "_view_name": "HTMLView",
            "style": "IPY_MODEL_6dfc4ddca26045d58c91c551e240b623",
            "_dom_classes": [],
            "description": "",
            "_model_name": "HTMLModel",
            "placeholder": "​",
            "_view_module": "@jupyter-widgets/controls",
            "_model_module_version": "1.5.0",
            "value": "Downloading: 100%",
            "_view_count": null,
            "_view_module_version": "1.5.0",
            "description_tooltip": null,
            "_model_module": "@jupyter-widgets/controls",
            "layout": "IPY_MODEL_1e724488e53a4331974c556787d7f958"
          }
        },
        "5a264ac9c4464e9e84c5c13e009f85cd": {
          "model_module": "@jupyter-widgets/controls",
          "model_name": "FloatProgressModel",
          "model_module_version": "1.5.0",
          "state": {
            "_view_name": "ProgressView",
            "style": "IPY_MODEL_74f28dcce3204b37a912430dad363d93",
            "_dom_classes": [],
            "description": "",
            "_model_name": "FloatProgressModel",
            "bar_style": "success",
            "max": 456318,
            "_view_module": "@jupyter-widgets/controls",
            "_model_module_version": "1.5.0",
            "value": 456318,
            "_view_count": null,
            "_view_module_version": "1.5.0",
            "orientation": "horizontal",
            "min": 0,
            "description_tooltip": null,
            "_model_module": "@jupyter-widgets/controls",
            "layout": "IPY_MODEL_5b7833fc6d4746cc803503ec6f9b7e2c"
          }
        },
        "c079dcc855a748d5b03a5e7c08499edc": {
          "model_module": "@jupyter-widgets/controls",
          "model_name": "HTMLModel",
          "model_module_version": "1.5.0",
          "state": {
            "_view_name": "HTMLView",
            "style": "IPY_MODEL_3c2f31b191214ab897f724e82c6e9a2f",
            "_dom_classes": [],
            "description": "",
            "_model_name": "HTMLModel",
            "placeholder": "​",
            "_view_module": "@jupyter-widgets/controls",
            "_model_module_version": "1.5.0",
            "value": " 456k/456k [00:00&lt;00:00, 1.28MB/s]",
            "_view_count": null,
            "_view_module_version": "1.5.0",
            "description_tooltip": null,
            "_model_module": "@jupyter-widgets/controls",
            "layout": "IPY_MODEL_4ce185b9ba8b4e5d8a276f5532886868"
          }
        },
        "6dfc4ddca26045d58c91c551e240b623": {
          "model_module": "@jupyter-widgets/controls",
          "model_name": "DescriptionStyleModel",
          "model_module_version": "1.5.0",
          "state": {
            "_view_name": "StyleView",
            "_model_name": "DescriptionStyleModel",
            "description_width": "",
            "_view_module": "@jupyter-widgets/base",
            "_model_module_version": "1.5.0",
            "_view_count": null,
            "_view_module_version": "1.2.0",
            "_model_module": "@jupyter-widgets/controls"
          }
        },
        "1e724488e53a4331974c556787d7f958": {
          "model_module": "@jupyter-widgets/base",
          "model_name": "LayoutModel",
          "model_module_version": "1.2.0",
          "state": {
            "_view_name": "LayoutView",
            "grid_template_rows": null,
            "right": null,
            "justify_content": null,
            "_view_module": "@jupyter-widgets/base",
            "overflow": null,
            "_model_module_version": "1.2.0",
            "_view_count": null,
            "flex_flow": null,
            "width": null,
            "min_width": null,
            "border": null,
            "align_items": null,
            "bottom": null,
            "_model_module": "@jupyter-widgets/base",
            "top": null,
            "grid_column": null,
            "overflow_y": null,
            "overflow_x": null,
            "grid_auto_flow": null,
            "grid_area": null,
            "grid_template_columns": null,
            "flex": null,
            "_model_name": "LayoutModel",
            "justify_items": null,
            "grid_row": null,
            "max_height": null,
            "align_content": null,
            "visibility": null,
            "align_self": null,
            "height": null,
            "min_height": null,
            "padding": null,
            "grid_auto_rows": null,
            "grid_gap": null,
            "max_width": null,
            "order": null,
            "_view_module_version": "1.2.0",
            "grid_template_areas": null,
            "object_position": null,
            "object_fit": null,
            "grid_auto_columns": null,
            "margin": null,
            "display": null,
            "left": null
          }
        },
        "74f28dcce3204b37a912430dad363d93": {
          "model_module": "@jupyter-widgets/controls",
          "model_name": "ProgressStyleModel",
          "model_module_version": "1.5.0",
          "state": {
            "_view_name": "StyleView",
            "_model_name": "ProgressStyleModel",
            "description_width": "",
            "_view_module": "@jupyter-widgets/base",
            "_model_module_version": "1.5.0",
            "_view_count": null,
            "_view_module_version": "1.2.0",
            "bar_color": null,
            "_model_module": "@jupyter-widgets/controls"
          }
        },
        "5b7833fc6d4746cc803503ec6f9b7e2c": {
          "model_module": "@jupyter-widgets/base",
          "model_name": "LayoutModel",
          "model_module_version": "1.2.0",
          "state": {
            "_view_name": "LayoutView",
            "grid_template_rows": null,
            "right": null,
            "justify_content": null,
            "_view_module": "@jupyter-widgets/base",
            "overflow": null,
            "_model_module_version": "1.2.0",
            "_view_count": null,
            "flex_flow": null,
            "width": null,
            "min_width": null,
            "border": null,
            "align_items": null,
            "bottom": null,
            "_model_module": "@jupyter-widgets/base",
            "top": null,
            "grid_column": null,
            "overflow_y": null,
            "overflow_x": null,
            "grid_auto_flow": null,
            "grid_area": null,
            "grid_template_columns": null,
            "flex": null,
            "_model_name": "LayoutModel",
            "justify_items": null,
            "grid_row": null,
            "max_height": null,
            "align_content": null,
            "visibility": null,
            "align_self": null,
            "height": null,
            "min_height": null,
            "padding": null,
            "grid_auto_rows": null,
            "grid_gap": null,
            "max_width": null,
            "order": null,
            "_view_module_version": "1.2.0",
            "grid_template_areas": null,
            "object_position": null,
            "object_fit": null,
            "grid_auto_columns": null,
            "margin": null,
            "display": null,
            "left": null
          }
        },
        "3c2f31b191214ab897f724e82c6e9a2f": {
          "model_module": "@jupyter-widgets/controls",
          "model_name": "DescriptionStyleModel",
          "model_module_version": "1.5.0",
          "state": {
            "_view_name": "StyleView",
            "_model_name": "DescriptionStyleModel",
            "description_width": "",
            "_view_module": "@jupyter-widgets/base",
            "_model_module_version": "1.5.0",
            "_view_count": null,
            "_view_module_version": "1.2.0",
            "_model_module": "@jupyter-widgets/controls"
          }
        },
        "4ce185b9ba8b4e5d8a276f5532886868": {
          "model_module": "@jupyter-widgets/base",
          "model_name": "LayoutModel",
          "model_module_version": "1.2.0",
          "state": {
            "_view_name": "LayoutView",
            "grid_template_rows": null,
            "right": null,
            "justify_content": null,
            "_view_module": "@jupyter-widgets/base",
            "overflow": null,
            "_model_module_version": "1.2.0",
            "_view_count": null,
            "flex_flow": null,
            "width": null,
            "min_width": null,
            "border": null,
            "align_items": null,
            "bottom": null,
            "_model_module": "@jupyter-widgets/base",
            "top": null,
            "grid_column": null,
            "overflow_y": null,
            "overflow_x": null,
            "grid_auto_flow": null,
            "grid_area": null,
            "grid_template_columns": null,
            "flex": null,
            "_model_name": "LayoutModel",
            "justify_items": null,
            "grid_row": null,
            "max_height": null,
            "align_content": null,
            "visibility": null,
            "align_self": null,
            "height": null,
            "min_height": null,
            "padding": null,
            "grid_auto_rows": null,
            "grid_gap": null,
            "max_width": null,
            "order": null,
            "_view_module_version": "1.2.0",
            "grid_template_areas": null,
            "object_position": null,
            "object_fit": null,
            "grid_auto_columns": null,
            "margin": null,
            "display": null,
            "left": null
          }
        },
        "46d28d8fb42f40f4a74eff07dd95a473": {
          "model_module": "@jupyter-widgets/controls",
          "model_name": "HBoxModel",
          "model_module_version": "1.5.0",
          "state": {
            "_view_name": "HBoxView",
            "_dom_classes": [],
            "_model_name": "HBoxModel",
            "_view_module": "@jupyter-widgets/controls",
            "_model_module_version": "1.5.0",
            "_view_count": null,
            "_view_module_version": "1.5.0",
            "box_style": "",
            "layout": "IPY_MODEL_ebfcd8ae1e8644029e07d288448e4dd1",
            "_model_module": "@jupyter-widgets/controls",
            "children": [
              "IPY_MODEL_42bad438d37a449583170ed7bab08ced",
              "IPY_MODEL_32b06002e1b14015b4a0474cdab1a030",
              "IPY_MODEL_4a7739ce16c8400893b96fe62ec7f2ed"
            ]
          }
        },
        "ebfcd8ae1e8644029e07d288448e4dd1": {
          "model_module": "@jupyter-widgets/base",
          "model_name": "LayoutModel",
          "model_module_version": "1.2.0",
          "state": {
            "_view_name": "LayoutView",
            "grid_template_rows": null,
            "right": null,
            "justify_content": null,
            "_view_module": "@jupyter-widgets/base",
            "overflow": null,
            "_model_module_version": "1.2.0",
            "_view_count": null,
            "flex_flow": null,
            "width": null,
            "min_width": null,
            "border": null,
            "align_items": null,
            "bottom": null,
            "_model_module": "@jupyter-widgets/base",
            "top": null,
            "grid_column": null,
            "overflow_y": null,
            "overflow_x": null,
            "grid_auto_flow": null,
            "grid_area": null,
            "grid_template_columns": null,
            "flex": null,
            "_model_name": "LayoutModel",
            "justify_items": null,
            "grid_row": null,
            "max_height": null,
            "align_content": null,
            "visibility": null,
            "align_self": null,
            "height": null,
            "min_height": null,
            "padding": null,
            "grid_auto_rows": null,
            "grid_gap": null,
            "max_width": null,
            "order": null,
            "_view_module_version": "1.2.0",
            "grid_template_areas": null,
            "object_position": null,
            "object_fit": null,
            "grid_auto_columns": null,
            "margin": null,
            "display": null,
            "left": null
          }
        },
        "42bad438d37a449583170ed7bab08ced": {
          "model_module": "@jupyter-widgets/controls",
          "model_name": "HTMLModel",
          "model_module_version": "1.5.0",
          "state": {
            "_view_name": "HTMLView",
            "style": "IPY_MODEL_bb4d76ce733b405b9b7a9e70354c4923",
            "_dom_classes": [],
            "description": "",
            "_model_name": "HTMLModel",
            "placeholder": "​",
            "_view_module": "@jupyter-widgets/controls",
            "_model_module_version": "1.5.0",
            "value": "Downloading: 100%",
            "_view_count": null,
            "_view_module_version": "1.5.0",
            "description_tooltip": null,
            "_model_module": "@jupyter-widgets/controls",
            "layout": "IPY_MODEL_257b0ede18294aa8a9ab428229413fe4"
          }
        },
        "32b06002e1b14015b4a0474cdab1a030": {
          "model_module": "@jupyter-widgets/controls",
          "model_name": "FloatProgressModel",
          "model_module_version": "1.5.0",
          "state": {
            "_view_name": "ProgressView",
            "style": "IPY_MODEL_01fdea49dac2438988f4d97ba7dee5ed",
            "_dom_classes": [],
            "description": "",
            "_model_name": "FloatProgressModel",
            "bar_style": "success",
            "max": 1355863,
            "_view_module": "@jupyter-widgets/controls",
            "_model_module_version": "1.5.0",
            "value": 1355863,
            "_view_count": null,
            "_view_module_version": "1.5.0",
            "orientation": "horizontal",
            "min": 0,
            "description_tooltip": null,
            "_model_module": "@jupyter-widgets/controls",
            "layout": "IPY_MODEL_9a553c20935e4e32a9587474942de7cd"
          }
        },
        "4a7739ce16c8400893b96fe62ec7f2ed": {
          "model_module": "@jupyter-widgets/controls",
          "model_name": "HTMLModel",
          "model_module_version": "1.5.0",
          "state": {
            "_view_name": "HTMLView",
            "style": "IPY_MODEL_e06d24ba9750489f9c9ae54672ca542b",
            "_dom_classes": [],
            "description": "",
            "_model_name": "HTMLModel",
            "placeholder": "​",
            "_view_module": "@jupyter-widgets/controls",
            "_model_module_version": "1.5.0",
            "value": " 1.36M/1.36M [00:00&lt;00:00, 3.97MB/s]",
            "_view_count": null,
            "_view_module_version": "1.5.0",
            "description_tooltip": null,
            "_model_module": "@jupyter-widgets/controls",
            "layout": "IPY_MODEL_5870eaca21cd47a694cc33dde3bd028f"
          }
        },
        "bb4d76ce733b405b9b7a9e70354c4923": {
          "model_module": "@jupyter-widgets/controls",
          "model_name": "DescriptionStyleModel",
          "model_module_version": "1.5.0",
          "state": {
            "_view_name": "StyleView",
            "_model_name": "DescriptionStyleModel",
            "description_width": "",
            "_view_module": "@jupyter-widgets/base",
            "_model_module_version": "1.5.0",
            "_view_count": null,
            "_view_module_version": "1.2.0",
            "_model_module": "@jupyter-widgets/controls"
          }
        },
        "257b0ede18294aa8a9ab428229413fe4": {
          "model_module": "@jupyter-widgets/base",
          "model_name": "LayoutModel",
          "model_module_version": "1.2.0",
          "state": {
            "_view_name": "LayoutView",
            "grid_template_rows": null,
            "right": null,
            "justify_content": null,
            "_view_module": "@jupyter-widgets/base",
            "overflow": null,
            "_model_module_version": "1.2.0",
            "_view_count": null,
            "flex_flow": null,
            "width": null,
            "min_width": null,
            "border": null,
            "align_items": null,
            "bottom": null,
            "_model_module": "@jupyter-widgets/base",
            "top": null,
            "grid_column": null,
            "overflow_y": null,
            "overflow_x": null,
            "grid_auto_flow": null,
            "grid_area": null,
            "grid_template_columns": null,
            "flex": null,
            "_model_name": "LayoutModel",
            "justify_items": null,
            "grid_row": null,
            "max_height": null,
            "align_content": null,
            "visibility": null,
            "align_self": null,
            "height": null,
            "min_height": null,
            "padding": null,
            "grid_auto_rows": null,
            "grid_gap": null,
            "max_width": null,
            "order": null,
            "_view_module_version": "1.2.0",
            "grid_template_areas": null,
            "object_position": null,
            "object_fit": null,
            "grid_auto_columns": null,
            "margin": null,
            "display": null,
            "left": null
          }
        },
        "01fdea49dac2438988f4d97ba7dee5ed": {
          "model_module": "@jupyter-widgets/controls",
          "model_name": "ProgressStyleModel",
          "model_module_version": "1.5.0",
          "state": {
            "_view_name": "StyleView",
            "_model_name": "ProgressStyleModel",
            "description_width": "",
            "_view_module": "@jupyter-widgets/base",
            "_model_module_version": "1.5.0",
            "_view_count": null,
            "_view_module_version": "1.2.0",
            "bar_color": null,
            "_model_module": "@jupyter-widgets/controls"
          }
        },
        "9a553c20935e4e32a9587474942de7cd": {
          "model_module": "@jupyter-widgets/base",
          "model_name": "LayoutModel",
          "model_module_version": "1.2.0",
          "state": {
            "_view_name": "LayoutView",
            "grid_template_rows": null,
            "right": null,
            "justify_content": null,
            "_view_module": "@jupyter-widgets/base",
            "overflow": null,
            "_model_module_version": "1.2.0",
            "_view_count": null,
            "flex_flow": null,
            "width": null,
            "min_width": null,
            "border": null,
            "align_items": null,
            "bottom": null,
            "_model_module": "@jupyter-widgets/base",
            "top": null,
            "grid_column": null,
            "overflow_y": null,
            "overflow_x": null,
            "grid_auto_flow": null,
            "grid_area": null,
            "grid_template_columns": null,
            "flex": null,
            "_model_name": "LayoutModel",
            "justify_items": null,
            "grid_row": null,
            "max_height": null,
            "align_content": null,
            "visibility": null,
            "align_self": null,
            "height": null,
            "min_height": null,
            "padding": null,
            "grid_auto_rows": null,
            "grid_gap": null,
            "max_width": null,
            "order": null,
            "_view_module_version": "1.2.0",
            "grid_template_areas": null,
            "object_position": null,
            "object_fit": null,
            "grid_auto_columns": null,
            "margin": null,
            "display": null,
            "left": null
          }
        },
        "e06d24ba9750489f9c9ae54672ca542b": {
          "model_module": "@jupyter-widgets/controls",
          "model_name": "DescriptionStyleModel",
          "model_module_version": "1.5.0",
          "state": {
            "_view_name": "StyleView",
            "_model_name": "DescriptionStyleModel",
            "description_width": "",
            "_view_module": "@jupyter-widgets/base",
            "_model_module_version": "1.5.0",
            "_view_count": null,
            "_view_module_version": "1.2.0",
            "_model_module": "@jupyter-widgets/controls"
          }
        },
        "5870eaca21cd47a694cc33dde3bd028f": {
          "model_module": "@jupyter-widgets/base",
          "model_name": "LayoutModel",
          "model_module_version": "1.2.0",
          "state": {
            "_view_name": "LayoutView",
            "grid_template_rows": null,
            "right": null,
            "justify_content": null,
            "_view_module": "@jupyter-widgets/base",
            "overflow": null,
            "_model_module_version": "1.2.0",
            "_view_count": null,
            "flex_flow": null,
            "width": null,
            "min_width": null,
            "border": null,
            "align_items": null,
            "bottom": null,
            "_model_module": "@jupyter-widgets/base",
            "top": null,
            "grid_column": null,
            "overflow_y": null,
            "overflow_x": null,
            "grid_auto_flow": null,
            "grid_area": null,
            "grid_template_columns": null,
            "flex": null,
            "_model_name": "LayoutModel",
            "justify_items": null,
            "grid_row": null,
            "max_height": null,
            "align_content": null,
            "visibility": null,
            "align_self": null,
            "height": null,
            "min_height": null,
            "padding": null,
            "grid_auto_rows": null,
            "grid_gap": null,
            "max_width": null,
            "order": null,
            "_view_module_version": "1.2.0",
            "grid_template_areas": null,
            "object_position": null,
            "object_fit": null,
            "grid_auto_columns": null,
            "margin": null,
            "display": null,
            "left": null
          }
        },
        "c3bf4b8a8ec14ec4925529c74b899bb7": {
          "model_module": "@jupyter-widgets/controls",
          "model_name": "HBoxModel",
          "model_module_version": "1.5.0",
          "state": {
            "_view_name": "HBoxView",
            "_dom_classes": [],
            "_model_name": "HBoxModel",
            "_view_module": "@jupyter-widgets/controls",
            "_model_module_version": "1.5.0",
            "_view_count": null,
            "_view_module_version": "1.5.0",
            "box_style": "",
            "layout": "IPY_MODEL_608ef4b5766d4d359c564b2f26c76ea0",
            "_model_module": "@jupyter-widgets/controls",
            "children": [
              "IPY_MODEL_ddbb29e620e84f8492bc5e6e5ba9e44c",
              "IPY_MODEL_60f422fdd0aa456f948f8315c77804f4",
              "IPY_MODEL_9ea0a65736504828b1ef109f605b150c"
            ]
          }
        },
        "608ef4b5766d4d359c564b2f26c76ea0": {
          "model_module": "@jupyter-widgets/base",
          "model_name": "LayoutModel",
          "model_module_version": "1.2.0",
          "state": {
            "_view_name": "LayoutView",
            "grid_template_rows": null,
            "right": null,
            "justify_content": null,
            "_view_module": "@jupyter-widgets/base",
            "overflow": null,
            "_model_module_version": "1.2.0",
            "_view_count": null,
            "flex_flow": null,
            "width": null,
            "min_width": null,
            "border": null,
            "align_items": null,
            "bottom": null,
            "_model_module": "@jupyter-widgets/base",
            "top": null,
            "grid_column": null,
            "overflow_y": null,
            "overflow_x": null,
            "grid_auto_flow": null,
            "grid_area": null,
            "grid_template_columns": null,
            "flex": null,
            "_model_name": "LayoutModel",
            "justify_items": null,
            "grid_row": null,
            "max_height": null,
            "align_content": null,
            "visibility": null,
            "align_self": null,
            "height": null,
            "min_height": null,
            "padding": null,
            "grid_auto_rows": null,
            "grid_gap": null,
            "max_width": null,
            "order": null,
            "_view_module_version": "1.2.0",
            "grid_template_areas": null,
            "object_position": null,
            "object_fit": null,
            "grid_auto_columns": null,
            "margin": null,
            "display": null,
            "left": null
          }
        },
        "ddbb29e620e84f8492bc5e6e5ba9e44c": {
          "model_module": "@jupyter-widgets/controls",
          "model_name": "HTMLModel",
          "model_module_version": "1.5.0",
          "state": {
            "_view_name": "HTMLView",
            "style": "IPY_MODEL_ea2086d5e2b340a7b327865bada226b7",
            "_dom_classes": [],
            "description": "",
            "_model_name": "HTMLModel",
            "placeholder": "​",
            "_view_module": "@jupyter-widgets/controls",
            "_model_module_version": "1.5.0",
            "value": "Downloading: 100%",
            "_view_count": null,
            "_view_module_version": "1.5.0",
            "description_tooltip": null,
            "_model_module": "@jupyter-widgets/controls",
            "layout": "IPY_MODEL_bde0fba4e4704f3988f56256c3bac59b"
          }
        },
        "60f422fdd0aa456f948f8315c77804f4": {
          "model_module": "@jupyter-widgets/controls",
          "model_name": "FloatProgressModel",
          "model_module_version": "1.5.0",
          "state": {
            "_view_name": "ProgressView",
            "style": "IPY_MODEL_b963b0d173e34264bdd420508f9a2fbe",
            "_dom_classes": [],
            "description": "",
            "_model_name": "FloatProgressModel",
            "bar_style": "success",
            "max": 481,
            "_view_module": "@jupyter-widgets/controls",
            "_model_module_version": "1.5.0",
            "value": 481,
            "_view_count": null,
            "_view_module_version": "1.5.0",
            "orientation": "horizontal",
            "min": 0,
            "description_tooltip": null,
            "_model_module": "@jupyter-widgets/controls",
            "layout": "IPY_MODEL_1e4192f0ff6442deb18246b24ac9b0d2"
          }
        },
        "9ea0a65736504828b1ef109f605b150c": {
          "model_module": "@jupyter-widgets/controls",
          "model_name": "HTMLModel",
          "model_module_version": "1.5.0",
          "state": {
            "_view_name": "HTMLView",
            "style": "IPY_MODEL_87e9796902164257b4d5711b0e6c8b90",
            "_dom_classes": [],
            "description": "",
            "_model_name": "HTMLModel",
            "placeholder": "​",
            "_view_module": "@jupyter-widgets/controls",
            "_model_module_version": "1.5.0",
            "value": " 481/481 [00:00&lt;00:00, 19.3kB/s]",
            "_view_count": null,
            "_view_module_version": "1.5.0",
            "description_tooltip": null,
            "_model_module": "@jupyter-widgets/controls",
            "layout": "IPY_MODEL_2e5e26b25bfb4b7cbc3ba77195f8ec36"
          }
        },
        "ea2086d5e2b340a7b327865bada226b7": {
          "model_module": "@jupyter-widgets/controls",
          "model_name": "DescriptionStyleModel",
          "model_module_version": "1.5.0",
          "state": {
            "_view_name": "StyleView",
            "_model_name": "DescriptionStyleModel",
            "description_width": "",
            "_view_module": "@jupyter-widgets/base",
            "_model_module_version": "1.5.0",
            "_view_count": null,
            "_view_module_version": "1.2.0",
            "_model_module": "@jupyter-widgets/controls"
          }
        },
        "bde0fba4e4704f3988f56256c3bac59b": {
          "model_module": "@jupyter-widgets/base",
          "model_name": "LayoutModel",
          "model_module_version": "1.2.0",
          "state": {
            "_view_name": "LayoutView",
            "grid_template_rows": null,
            "right": null,
            "justify_content": null,
            "_view_module": "@jupyter-widgets/base",
            "overflow": null,
            "_model_module_version": "1.2.0",
            "_view_count": null,
            "flex_flow": null,
            "width": null,
            "min_width": null,
            "border": null,
            "align_items": null,
            "bottom": null,
            "_model_module": "@jupyter-widgets/base",
            "top": null,
            "grid_column": null,
            "overflow_y": null,
            "overflow_x": null,
            "grid_auto_flow": null,
            "grid_area": null,
            "grid_template_columns": null,
            "flex": null,
            "_model_name": "LayoutModel",
            "justify_items": null,
            "grid_row": null,
            "max_height": null,
            "align_content": null,
            "visibility": null,
            "align_self": null,
            "height": null,
            "min_height": null,
            "padding": null,
            "grid_auto_rows": null,
            "grid_gap": null,
            "max_width": null,
            "order": null,
            "_view_module_version": "1.2.0",
            "grid_template_areas": null,
            "object_position": null,
            "object_fit": null,
            "grid_auto_columns": null,
            "margin": null,
            "display": null,
            "left": null
          }
        },
        "b963b0d173e34264bdd420508f9a2fbe": {
          "model_module": "@jupyter-widgets/controls",
          "model_name": "ProgressStyleModel",
          "model_module_version": "1.5.0",
          "state": {
            "_view_name": "StyleView",
            "_model_name": "ProgressStyleModel",
            "description_width": "",
            "_view_module": "@jupyter-widgets/base",
            "_model_module_version": "1.5.0",
            "_view_count": null,
            "_view_module_version": "1.2.0",
            "bar_color": null,
            "_model_module": "@jupyter-widgets/controls"
          }
        },
        "1e4192f0ff6442deb18246b24ac9b0d2": {
          "model_module": "@jupyter-widgets/base",
          "model_name": "LayoutModel",
          "model_module_version": "1.2.0",
          "state": {
            "_view_name": "LayoutView",
            "grid_template_rows": null,
            "right": null,
            "justify_content": null,
            "_view_module": "@jupyter-widgets/base",
            "overflow": null,
            "_model_module_version": "1.2.0",
            "_view_count": null,
            "flex_flow": null,
            "width": null,
            "min_width": null,
            "border": null,
            "align_items": null,
            "bottom": null,
            "_model_module": "@jupyter-widgets/base",
            "top": null,
            "grid_column": null,
            "overflow_y": null,
            "overflow_x": null,
            "grid_auto_flow": null,
            "grid_area": null,
            "grid_template_columns": null,
            "flex": null,
            "_model_name": "LayoutModel",
            "justify_items": null,
            "grid_row": null,
            "max_height": null,
            "align_content": null,
            "visibility": null,
            "align_self": null,
            "height": null,
            "min_height": null,
            "padding": null,
            "grid_auto_rows": null,
            "grid_gap": null,
            "max_width": null,
            "order": null,
            "_view_module_version": "1.2.0",
            "grid_template_areas": null,
            "object_position": null,
            "object_fit": null,
            "grid_auto_columns": null,
            "margin": null,
            "display": null,
            "left": null
          }
        },
        "87e9796902164257b4d5711b0e6c8b90": {
          "model_module": "@jupyter-widgets/controls",
          "model_name": "DescriptionStyleModel",
          "model_module_version": "1.5.0",
          "state": {
            "_view_name": "StyleView",
            "_model_name": "DescriptionStyleModel",
            "description_width": "",
            "_view_module": "@jupyter-widgets/base",
            "_model_module_version": "1.5.0",
            "_view_count": null,
            "_view_module_version": "1.2.0",
            "_model_module": "@jupyter-widgets/controls"
          }
        },
        "2e5e26b25bfb4b7cbc3ba77195f8ec36": {
          "model_module": "@jupyter-widgets/base",
          "model_name": "LayoutModel",
          "model_module_version": "1.2.0",
          "state": {
            "_view_name": "LayoutView",
            "grid_template_rows": null,
            "right": null,
            "justify_content": null,
            "_view_module": "@jupyter-widgets/base",
            "overflow": null,
            "_model_module_version": "1.2.0",
            "_view_count": null,
            "flex_flow": null,
            "width": null,
            "min_width": null,
            "border": null,
            "align_items": null,
            "bottom": null,
            "_model_module": "@jupyter-widgets/base",
            "top": null,
            "grid_column": null,
            "overflow_y": null,
            "overflow_x": null,
            "grid_auto_flow": null,
            "grid_area": null,
            "grid_template_columns": null,
            "flex": null,
            "_model_name": "LayoutModel",
            "justify_items": null,
            "grid_row": null,
            "max_height": null,
            "align_content": null,
            "visibility": null,
            "align_self": null,
            "height": null,
            "min_height": null,
            "padding": null,
            "grid_auto_rows": null,
            "grid_gap": null,
            "max_width": null,
            "order": null,
            "_view_module_version": "1.2.0",
            "grid_template_areas": null,
            "object_position": null,
            "object_fit": null,
            "grid_auto_columns": null,
            "margin": null,
            "display": null,
            "left": null
          }
        },
        "95649b3a77aa4086a90bed2e3c6e8ad4": {
          "model_module": "@jupyter-widgets/controls",
          "model_name": "HBoxModel",
          "model_module_version": "1.5.0",
          "state": {
            "_view_name": "HBoxView",
            "_dom_classes": [],
            "_model_name": "HBoxModel",
            "_view_module": "@jupyter-widgets/controls",
            "_model_module_version": "1.5.0",
            "_view_count": null,
            "_view_module_version": "1.5.0",
            "box_style": "",
            "layout": "IPY_MODEL_2225434c72174b448a84c843c1ce0d93",
            "_model_module": "@jupyter-widgets/controls",
            "children": [
              "IPY_MODEL_34516df0db3b43d08ee3e3b7a7991b39",
              "IPY_MODEL_322886c54c76495eb9a10092a11df045",
              "IPY_MODEL_307c8e423f7441dd96a649c943bd6823"
            ]
          }
        },
        "2225434c72174b448a84c843c1ce0d93": {
          "model_module": "@jupyter-widgets/base",
          "model_name": "LayoutModel",
          "model_module_version": "1.2.0",
          "state": {
            "_view_name": "LayoutView",
            "grid_template_rows": null,
            "right": null,
            "justify_content": null,
            "_view_module": "@jupyter-widgets/base",
            "overflow": null,
            "_model_module_version": "1.2.0",
            "_view_count": null,
            "flex_flow": null,
            "width": null,
            "min_width": null,
            "border": null,
            "align_items": null,
            "bottom": null,
            "_model_module": "@jupyter-widgets/base",
            "top": null,
            "grid_column": null,
            "overflow_y": null,
            "overflow_x": null,
            "grid_auto_flow": null,
            "grid_area": null,
            "grid_template_columns": null,
            "flex": null,
            "_model_name": "LayoutModel",
            "justify_items": null,
            "grid_row": null,
            "max_height": null,
            "align_content": null,
            "visibility": null,
            "align_self": null,
            "height": null,
            "min_height": null,
            "padding": null,
            "grid_auto_rows": null,
            "grid_gap": null,
            "max_width": null,
            "order": null,
            "_view_module_version": "1.2.0",
            "grid_template_areas": null,
            "object_position": null,
            "object_fit": null,
            "grid_auto_columns": null,
            "margin": null,
            "display": null,
            "left": null
          }
        },
        "34516df0db3b43d08ee3e3b7a7991b39": {
          "model_module": "@jupyter-widgets/controls",
          "model_name": "HTMLModel",
          "model_module_version": "1.5.0",
          "state": {
            "_view_name": "HTMLView",
            "style": "IPY_MODEL_60fe9d75df644ca9994511ce8a5f5929",
            "_dom_classes": [],
            "description": "",
            "_model_name": "HTMLModel",
            "placeholder": "​",
            "_view_module": "@jupyter-widgets/controls",
            "_model_module_version": "1.5.0",
            "value": "Downloading: 100%",
            "_view_count": null,
            "_view_module_version": "1.5.0",
            "description_tooltip": null,
            "_model_module": "@jupyter-widgets/controls",
            "layout": "IPY_MODEL_c316991c154c45bf84dba1e002b48f5f"
          }
        },
        "322886c54c76495eb9a10092a11df045": {
          "model_module": "@jupyter-widgets/controls",
          "model_name": "FloatProgressModel",
          "model_module_version": "1.5.0",
          "state": {
            "_view_name": "ProgressView",
            "style": "IPY_MODEL_119ebb8220ac48ebaaf85d80b4851934",
            "_dom_classes": [],
            "description": "",
            "_model_name": "FloatProgressModel",
            "bar_style": "success",
            "max": 501200538,
            "_view_module": "@jupyter-widgets/controls",
            "_model_module_version": "1.5.0",
            "value": 501200538,
            "_view_count": null,
            "_view_module_version": "1.5.0",
            "orientation": "horizontal",
            "min": 0,
            "description_tooltip": null,
            "_model_module": "@jupyter-widgets/controls",
            "layout": "IPY_MODEL_68de228233eb4acf8644965dd6694f09"
          }
        },
        "307c8e423f7441dd96a649c943bd6823": {
          "model_module": "@jupyter-widgets/controls",
          "model_name": "HTMLModel",
          "model_module_version": "1.5.0",
          "state": {
            "_view_name": "HTMLView",
            "style": "IPY_MODEL_bda19e3002b044cebe996f1af5fbdb54",
            "_dom_classes": [],
            "description": "",
            "_model_name": "HTMLModel",
            "placeholder": "​",
            "_view_module": "@jupyter-widgets/controls",
            "_model_module_version": "1.5.0",
            "value": " 501M/501M [00:08&lt;00:00, 62.0MB/s]",
            "_view_count": null,
            "_view_module_version": "1.5.0",
            "description_tooltip": null,
            "_model_module": "@jupyter-widgets/controls",
            "layout": "IPY_MODEL_11f3c49c6c784d20b002298fa7015452"
          }
        },
        "60fe9d75df644ca9994511ce8a5f5929": {
          "model_module": "@jupyter-widgets/controls",
          "model_name": "DescriptionStyleModel",
          "model_module_version": "1.5.0",
          "state": {
            "_view_name": "StyleView",
            "_model_name": "DescriptionStyleModel",
            "description_width": "",
            "_view_module": "@jupyter-widgets/base",
            "_model_module_version": "1.5.0",
            "_view_count": null,
            "_view_module_version": "1.2.0",
            "_model_module": "@jupyter-widgets/controls"
          }
        },
        "c316991c154c45bf84dba1e002b48f5f": {
          "model_module": "@jupyter-widgets/base",
          "model_name": "LayoutModel",
          "model_module_version": "1.2.0",
          "state": {
            "_view_name": "LayoutView",
            "grid_template_rows": null,
            "right": null,
            "justify_content": null,
            "_view_module": "@jupyter-widgets/base",
            "overflow": null,
            "_model_module_version": "1.2.0",
            "_view_count": null,
            "flex_flow": null,
            "width": null,
            "min_width": null,
            "border": null,
            "align_items": null,
            "bottom": null,
            "_model_module": "@jupyter-widgets/base",
            "top": null,
            "grid_column": null,
            "overflow_y": null,
            "overflow_x": null,
            "grid_auto_flow": null,
            "grid_area": null,
            "grid_template_columns": null,
            "flex": null,
            "_model_name": "LayoutModel",
            "justify_items": null,
            "grid_row": null,
            "max_height": null,
            "align_content": null,
            "visibility": null,
            "align_self": null,
            "height": null,
            "min_height": null,
            "padding": null,
            "grid_auto_rows": null,
            "grid_gap": null,
            "max_width": null,
            "order": null,
            "_view_module_version": "1.2.0",
            "grid_template_areas": null,
            "object_position": null,
            "object_fit": null,
            "grid_auto_columns": null,
            "margin": null,
            "display": null,
            "left": null
          }
        },
        "119ebb8220ac48ebaaf85d80b4851934": {
          "model_module": "@jupyter-widgets/controls",
          "model_name": "ProgressStyleModel",
          "model_module_version": "1.5.0",
          "state": {
            "_view_name": "StyleView",
            "_model_name": "ProgressStyleModel",
            "description_width": "",
            "_view_module": "@jupyter-widgets/base",
            "_model_module_version": "1.5.0",
            "_view_count": null,
            "_view_module_version": "1.2.0",
            "bar_color": null,
            "_model_module": "@jupyter-widgets/controls"
          }
        },
        "68de228233eb4acf8644965dd6694f09": {
          "model_module": "@jupyter-widgets/base",
          "model_name": "LayoutModel",
          "model_module_version": "1.2.0",
          "state": {
            "_view_name": "LayoutView",
            "grid_template_rows": null,
            "right": null,
            "justify_content": null,
            "_view_module": "@jupyter-widgets/base",
            "overflow": null,
            "_model_module_version": "1.2.0",
            "_view_count": null,
            "flex_flow": null,
            "width": null,
            "min_width": null,
            "border": null,
            "align_items": null,
            "bottom": null,
            "_model_module": "@jupyter-widgets/base",
            "top": null,
            "grid_column": null,
            "overflow_y": null,
            "overflow_x": null,
            "grid_auto_flow": null,
            "grid_area": null,
            "grid_template_columns": null,
            "flex": null,
            "_model_name": "LayoutModel",
            "justify_items": null,
            "grid_row": null,
            "max_height": null,
            "align_content": null,
            "visibility": null,
            "align_self": null,
            "height": null,
            "min_height": null,
            "padding": null,
            "grid_auto_rows": null,
            "grid_gap": null,
            "max_width": null,
            "order": null,
            "_view_module_version": "1.2.0",
            "grid_template_areas": null,
            "object_position": null,
            "object_fit": null,
            "grid_auto_columns": null,
            "margin": null,
            "display": null,
            "left": null
          }
        },
        "bda19e3002b044cebe996f1af5fbdb54": {
          "model_module": "@jupyter-widgets/controls",
          "model_name": "DescriptionStyleModel",
          "model_module_version": "1.5.0",
          "state": {
            "_view_name": "StyleView",
            "_model_name": "DescriptionStyleModel",
            "description_width": "",
            "_view_module": "@jupyter-widgets/base",
            "_model_module_version": "1.5.0",
            "_view_count": null,
            "_view_module_version": "1.2.0",
            "_model_module": "@jupyter-widgets/controls"
          }
        },
        "11f3c49c6c784d20b002298fa7015452": {
          "model_module": "@jupyter-widgets/base",
          "model_name": "LayoutModel",
          "model_module_version": "1.2.0",
          "state": {
            "_view_name": "LayoutView",
            "grid_template_rows": null,
            "right": null,
            "justify_content": null,
            "_view_module": "@jupyter-widgets/base",
            "overflow": null,
            "_model_module_version": "1.2.0",
            "_view_count": null,
            "flex_flow": null,
            "width": null,
            "min_width": null,
            "border": null,
            "align_items": null,
            "bottom": null,
            "_model_module": "@jupyter-widgets/base",
            "top": null,
            "grid_column": null,
            "overflow_y": null,
            "overflow_x": null,
            "grid_auto_flow": null,
            "grid_area": null,
            "grid_template_columns": null,
            "flex": null,
            "_model_name": "LayoutModel",
            "justify_items": null,
            "grid_row": null,
            "max_height": null,
            "align_content": null,
            "visibility": null,
            "align_self": null,
            "height": null,
            "min_height": null,
            "padding": null,
            "grid_auto_rows": null,
            "grid_gap": null,
            "max_width": null,
            "order": null,
            "_view_module_version": "1.2.0",
            "grid_template_areas": null,
            "object_position": null,
            "object_fit": null,
            "grid_auto_columns": null,
            "margin": null,
            "display": null,
            "left": null
          }
        }
      }
    }
  },
  "cells": [
    {
      "cell_type": "markdown",
      "metadata": {
        "id": "view-in-github",
        "colab_type": "text"
      },
      "source": [
        "<a href=\"https://colab.research.google.com/github/kfsky/test-repo-colab/blob/main/Exp019.ipynb\" target=\"_parent\"><img src=\"https://colab.research.google.com/assets/colab-badge.svg\" alt=\"Open In Colab\"/></a>"
      ]
    },
    {
      "cell_type": "markdown",
      "metadata": {
        "id": "JXepDb7__Oml"
      },
      "source": [
        "### 色々変更していく"
      ]
    },
    {
      "cell_type": "markdown",
      "metadata": {
        "id": "A-t7bOu8vtHW"
      },
      "source": [
        "Thresholdを最適化できないか検討"
      ]
    },
    {
      "cell_type": "code",
      "metadata": {
        "colab": {
          "base_uri": "https://localhost:8080/"
        },
        "id": "Sa2hpabgm7vJ",
        "outputId": "51467776-67d1-4178-e69d-422e4d1a7c9d"
      },
      "source": [
        "from google.colab import drive\n",
        "drive.mount('/content/drive')"
      ],
      "execution_count": 1,
      "outputs": [
        {
          "output_type": "stream",
          "text": [
            "Mounted at /content/drive\n"
          ],
          "name": "stdout"
        }
      ]
    },
    {
      "cell_type": "code",
      "metadata": {
        "colab": {
          "base_uri": "https://localhost:8080/"
        },
        "id": "KKlEabxO_MSm",
        "outputId": "3e022391-b3a7-43fe-fdb0-efaa60deaa7c"
      },
      "source": [
        "!nvidia-smi"
      ],
      "execution_count": 2,
      "outputs": [
        {
          "output_type": "stream",
          "text": [
            "Sat Aug 14 08:07:50 2021       \n",
            "+-----------------------------------------------------------------------------+\n",
            "| NVIDIA-SMI 470.42.01    Driver Version: 460.32.03    CUDA Version: 11.2     |\n",
            "|-------------------------------+----------------------+----------------------+\n",
            "| GPU  Name        Persistence-M| Bus-Id        Disp.A | Volatile Uncorr. ECC |\n",
            "| Fan  Temp  Perf  Pwr:Usage/Cap|         Memory-Usage | GPU-Util  Compute M. |\n",
            "|                               |                      |               MIG M. |\n",
            "|===============================+======================+======================|\n",
            "|   0  Tesla V100-SXM2...  Off  | 00000000:00:04.0 Off |                    0 |\n",
            "| N/A   37C    P0    25W / 300W |      0MiB / 16160MiB |      0%      Default |\n",
            "|                               |                      |                  N/A |\n",
            "+-------------------------------+----------------------+----------------------+\n",
            "                                                                               \n",
            "+-----------------------------------------------------------------------------+\n",
            "| Processes:                                                                  |\n",
            "|  GPU   GI   CI        PID   Type   Process name                  GPU Memory |\n",
            "|        ID   ID                                                   Usage      |\n",
            "|=============================================================================|\n",
            "|  No running processes found                                                 |\n",
            "+-----------------------------------------------------------------------------+\n"
          ],
          "name": "stdout"
        }
      ]
    },
    {
      "cell_type": "code",
      "metadata": {
        "colab": {
          "base_uri": "https://localhost:8080/"
        },
        "id": "vE7GdrrE_dev",
        "outputId": "c6e3457e-75b1-4c11-802e-f0749faa1344"
      },
      "source": [
        "!pip install transformers pycld2"
      ],
      "execution_count": 3,
      "outputs": [
        {
          "output_type": "stream",
          "text": [
            "Collecting transformers\n",
            "  Downloading transformers-4.9.2-py3-none-any.whl (2.6 MB)\n",
            "\u001b[K     |████████████████████████████████| 2.6 MB 14.2 MB/s \n",
            "\u001b[?25hCollecting pycld2\n",
            "  Downloading pycld2-0.41.tar.gz (41.4 MB)\n",
            "\u001b[K     |████████████████████████████████| 41.4 MB 1.2 MB/s \n",
            "\u001b[?25hCollecting huggingface-hub==0.0.12\n",
            "  Downloading huggingface_hub-0.0.12-py3-none-any.whl (37 kB)\n",
            "Requirement already satisfied: filelock in /usr/local/lib/python3.7/dist-packages (from transformers) (3.0.12)\n",
            "Requirement already satisfied: requests in /usr/local/lib/python3.7/dist-packages (from transformers) (2.23.0)\n",
            "Requirement already satisfied: tqdm>=4.27 in /usr/local/lib/python3.7/dist-packages (from transformers) (4.62.0)\n",
            "Requirement already satisfied: numpy>=1.17 in /usr/local/lib/python3.7/dist-packages (from transformers) (1.19.5)\n",
            "Requirement already satisfied: packaging in /usr/local/lib/python3.7/dist-packages (from transformers) (21.0)\n",
            "Collecting pyyaml>=5.1\n",
            "  Downloading PyYAML-5.4.1-cp37-cp37m-manylinux1_x86_64.whl (636 kB)\n",
            "\u001b[K     |████████████████████████████████| 636 kB 77.8 MB/s \n",
            "\u001b[?25hRequirement already satisfied: importlib-metadata in /usr/local/lib/python3.7/dist-packages (from transformers) (4.6.3)\n",
            "Collecting tokenizers<0.11,>=0.10.1\n",
            "  Downloading tokenizers-0.10.3-cp37-cp37m-manylinux_2_5_x86_64.manylinux1_x86_64.manylinux_2_12_x86_64.manylinux2010_x86_64.whl (3.3 MB)\n",
            "\u001b[K     |████████████████████████████████| 3.3 MB 74.3 MB/s \n",
            "\u001b[?25hCollecting sacremoses\n",
            "  Downloading sacremoses-0.0.45-py3-none-any.whl (895 kB)\n",
            "\u001b[K     |████████████████████████████████| 895 kB 86.1 MB/s \n",
            "\u001b[?25hRequirement already satisfied: regex!=2019.12.17 in /usr/local/lib/python3.7/dist-packages (from transformers) (2019.12.20)\n",
            "Requirement already satisfied: typing-extensions in /usr/local/lib/python3.7/dist-packages (from huggingface-hub==0.0.12->transformers) (3.7.4.3)\n",
            "Requirement already satisfied: pyparsing>=2.0.2 in /usr/local/lib/python3.7/dist-packages (from packaging->transformers) (2.4.7)\n",
            "Requirement already satisfied: zipp>=0.5 in /usr/local/lib/python3.7/dist-packages (from importlib-metadata->transformers) (3.5.0)\n",
            "Requirement already satisfied: idna<3,>=2.5 in /usr/local/lib/python3.7/dist-packages (from requests->transformers) (2.10)\n",
            "Requirement already satisfied: urllib3!=1.25.0,!=1.25.1,<1.26,>=1.21.1 in /usr/local/lib/python3.7/dist-packages (from requests->transformers) (1.24.3)\n",
            "Requirement already satisfied: certifi>=2017.4.17 in /usr/local/lib/python3.7/dist-packages (from requests->transformers) (2021.5.30)\n",
            "Requirement already satisfied: chardet<4,>=3.0.2 in /usr/local/lib/python3.7/dist-packages (from requests->transformers) (3.0.4)\n",
            "Requirement already satisfied: joblib in /usr/local/lib/python3.7/dist-packages (from sacremoses->transformers) (1.0.1)\n",
            "Requirement already satisfied: click in /usr/local/lib/python3.7/dist-packages (from sacremoses->transformers) (7.1.2)\n",
            "Requirement already satisfied: six in /usr/local/lib/python3.7/dist-packages (from sacremoses->transformers) (1.15.0)\n",
            "Building wheels for collected packages: pycld2\n",
            "  Building wheel for pycld2 (setup.py) ... \u001b[?25l\u001b[?25hdone\n",
            "  Created wheel for pycld2: filename=pycld2-0.41-cp37-cp37m-linux_x86_64.whl size=9834390 sha256=b72d0bea6102251ecc28ae63d8419c9900fdd46434467e7ca0507702824c0842\n",
            "  Stored in directory: /root/.cache/pip/wheels/ed/e4/58/ed2e9f43c07d617cc81fe7aff0fc6e42b16c9cf6afe960b614\n",
            "Successfully built pycld2\n",
            "Installing collected packages: tokenizers, sacremoses, pyyaml, huggingface-hub, transformers, pycld2\n",
            "  Attempting uninstall: pyyaml\n",
            "    Found existing installation: PyYAML 3.13\n",
            "    Uninstalling PyYAML-3.13:\n",
            "      Successfully uninstalled PyYAML-3.13\n",
            "Successfully installed huggingface-hub-0.0.12 pycld2-0.41 pyyaml-5.4.1 sacremoses-0.0.45 tokenizers-0.10.3 transformers-4.9.2\n"
          ],
          "name": "stdout"
        }
      ]
    },
    {
      "cell_type": "code",
      "metadata": {
        "id": "O3gDMmLR_oJ3"
      },
      "source": [
        "input_dir = \"/content/drive/MyDrive/signate/SystematicReviewWorkShop-PeerSupportGroup/data/\"\n",
        "output_dir = \"/content/drive/MyDrive/signate/SystematicReviewWorkShop-PeerSupportGroup/log/\"\n",
        "submission_dir = \"/content/drive/MyDrive/signate/SystematicReviewWorkShop-PeerSupportGroup/submission/\"\n",
        "model_dir = \"/content/drive/MyDrive/signate/SystematicReviewWorkShop-PeerSupportGroup/model_bin/\"\n",
        "pred_dir = \"/content/drive/MyDrive/signate/SystematicReviewWorkShop-PeerSupportGroup/pred/\""
      ],
      "execution_count": 4,
      "outputs": []
    },
    {
      "cell_type": "code",
      "metadata": {
        "id": "88KVneP6_o1Z",
        "colab": {
          "base_uri": "https://localhost:8080/"
        },
        "outputId": "75a08d23-ad2f-4648-9409-9bbe60793d63"
      },
      "source": [
        "import os\n",
        "import math\n",
        "import random\n",
        "import pandas as pd\n",
        "import numpy as np\n",
        "from glob import glob\n",
        "import gc\n",
        "gc.enable()\n",
        "\n",
        "import torch\n",
        "import torch.nn as nn\n",
        "import torch.optim as optim\n",
        "import torch.optim as optim\n",
        "from torch.optim.optimizer import Optimizer\n",
        "import torch.optim.lr_scheduler as lr_scheduler\n",
        "from torch.utils.data import Dataset, DataLoader, SequentialSampler, RandomSampler\n",
        "\n",
        "from sklearn.model_selection import StratifiedKFold\n",
        "from sklearn.metrics import fbeta_score\n",
        "\n",
        "from transformers import BertConfig, RobertaConfig\n",
        "from transformers import (get_cosine_schedule_with_warmup, get_cosine_with_hard_restarts_schedule_with_warmup)\n",
        "from transformers import BertTokenizer, RobertaTokenizer\n",
        "from transformers import BertModel, RobertaModel\n",
        "from transformers import AutoConfig, BertConfig, RobertaConfig\n",
        "from transformers import BertForSequenceClassification, RobertaForSequenceClassification\n",
        "from torch import cuda\n",
        "import time\n",
        "\n",
        "from transformers import AdamW\n",
        "from transformers import AutoTokenizer\n",
        "from transformers import AutoModel, AutoModelForSequenceClassification\n",
        "from transformers import MODEL_FOR_SEQUENCE_CLASSIFICATION_MAPPING\n",
        "from transformers import get_linear_schedule_with_warmup\n",
        "\n",
        "from IPython.display import clear_output\n",
        "from tqdm import tqdm, trange\n",
        "\n",
        "import re\n",
        "import nltk\n",
        "import pycld2 as cld2\n",
        "from scipy.optimize import minimize, minimize_scalar\n",
        "import regex\n",
        "nltk.download('stopwords')"
      ],
      "execution_count": 5,
      "outputs": [
        {
          "output_type": "stream",
          "text": [
            "[nltk_data] Downloading package stopwords to /root/nltk_data...\n",
            "[nltk_data]   Unzipping corpora/stopwords.zip.\n"
          ],
          "name": "stdout"
        },
        {
          "output_type": "execute_result",
          "data": {
            "text/plain": [
              "True"
            ]
          },
          "metadata": {
            "tags": []
          },
          "execution_count": 5
        }
      ]
    },
    {
      "cell_type": "code",
      "metadata": {
        "id": "slgK2kwa_tdt"
      },
      "source": [
        "class CFG:\n",
        "  exp = \"exp019\"\n",
        "  seed = 71\n",
        "  fold = 5\n",
        "  max_len = 300\n",
        "  epochs = 1\n",
        "  lr = 2e-5\n",
        "  train_batch_size = 16\n",
        "  valid_batch_size = 32\n",
        "  model_name = \"roberta-base\"\n",
        "\n",
        "CONFIG = CFG()"
      ],
      "execution_count": 6,
      "outputs": []
    },
    {
      "cell_type": "code",
      "metadata": {
        "id": "YWMPal_oAmmz"
      },
      "source": [
        "os.makedirs(model_dir+CONFIG.exp+\"/\", exist_ok=True)\n",
        "os.makedirs(pred_dir+CONFIG.exp+\"/\", exist_ok=True)\n",
        "os.makedirs(output_dir+CONFIG.exp+\"/\", exist_ok=True)"
      ],
      "execution_count": 7,
      "outputs": []
    },
    {
      "cell_type": "code",
      "metadata": {
        "id": "O_d2AXNBAkKu"
      },
      "source": [
        "def set_random_seed(random_seed):\n",
        "    random.seed(random_seed)\n",
        "    np.random.seed(random_seed)\n",
        "    os.environ[\"PYTHONHASHSEED\"] = str(random_seed)\n",
        "\n",
        "    torch.manual_seed(random_seed)\n",
        "    torch.cuda.manual_seed(random_seed)\n",
        "    torch.cuda.manual_seed_all(random_seed)\n",
        "\n",
        "    torch.backends.cudnn.deterministic = True\n",
        "\n",
        "set_random_seed(CONFIG.seed)"
      ],
      "execution_count": 8,
      "outputs": []
    },
    {
      "cell_type": "code",
      "metadata": {
        "id": "n47LBGkly0mL"
      },
      "source": [
        "DEVICE = torch.device('cuda') if cuda.is_available() else 'cpu'"
      ],
      "execution_count": 9,
      "outputs": []
    },
    {
      "cell_type": "code",
      "metadata": {
        "id": "em7TEBclApr_"
      },
      "source": [
        "def init_logger(log_file=output_dir + CONFIG.exp+ f\"/{CONFIG.exp}_train.log\"):\n",
        "    from logging import INFO, FileHandler, Formatter, StreamHandler, getLogger\n",
        "\n",
        "    logger = getLogger(__name__)\n",
        "    logger.setLevel(INFO)\n",
        "    handler1 = StreamHandler()\n",
        "    handler1.setFormatter(Formatter(\"%(message)s\"))\n",
        "    handler2 = FileHandler(filename=log_file)\n",
        "    handler2.setFormatter(Formatter(\"%(message)s\"))\n",
        "    logger.addHandler(handler1)\n",
        "    logger.addHandler(handler2)\n",
        "    return logger\n",
        "\n",
        "LOGGER = init_logger()"
      ],
      "execution_count": 10,
      "outputs": []
    },
    {
      "cell_type": "code",
      "metadata": {
        "id": "WOh95cXMAxta"
      },
      "source": [
        "def get_train_data(train):\n",
        "    # 交差検証 用の番号を振ります。\n",
        "    Fold = StratifiedKFold(n_splits=CONFIG.fold, shuffle=True, random_state=CONFIG.seed)\n",
        "    for n, (train_index, val_index) in enumerate(Fold.split(train, train[\"judgement\"])):\n",
        "        train.loc[val_index, \"fold\"] = int(n)\n",
        "    train[\"fold\"] = train[\"fold\"].astype(np.uint8)\n",
        "\n",
        "    return train\n",
        "\n",
        "def get_test_data(test):\n",
        "    return test"
      ],
      "execution_count": 11,
      "outputs": []
    },
    {
      "cell_type": "code",
      "metadata": {
        "id": "5V4URD_dAY2t"
      },
      "source": [
        "class SRWSDataset(Dataset):\n",
        "  def __init__(self, df, inference_only=False):\n",
        "\n",
        "    # Berttokenizer\n",
        "    tokenizer = RobertaTokenizer.from_pretrained(CONFIG.model_name)\n",
        "\n",
        "    self.df = df\n",
        "    self.inference_only = inference_only # \"train\":False or \"test\":True\n",
        "    self.text = self.df[\"title_abst\"].tolist() # text\n",
        "\n",
        "    if not self.inference_only:\n",
        "      # ここvalueだけ\n",
        "      self.target = df[\"judgement\"].values\n",
        "      \n",
        "    self.encoded = tokenizer.batch_encode_plus(\n",
        "        self.text,\n",
        "        padding = \"max_length\",\n",
        "        max_length = CONFIG.max_len,\n",
        "        truncation = True,\n",
        "        return_attention_mask=True\n",
        "    )\n",
        "\n",
        "  def __len__(self):\n",
        "    return len(self.df)\n",
        "\n",
        "  def __getitem__(self, index):\n",
        "    input_ids = torch.tensor(self.encoded[\"input_ids\"][index])\n",
        "    attention_mask = torch.tensor(self.encoded[\"attention_mask\"][index])\n",
        "\n",
        "    # returnをsetかdictで返すかは自由\n",
        "    if self.inference_only:\n",
        "      return (input_ids, attention_mask)\n",
        "\n",
        "    else:\n",
        "      # ここで、tensor に変更している\n",
        "      target = torch.tensor(self.target[index]).float()\n",
        "      return (input_ids, attention_mask, target)\n"
      ],
      "execution_count": 12,
      "outputs": []
    },
    {
      "cell_type": "code",
      "metadata": {
        "id": "7EdX0AIdEAw7"
      },
      "source": [
        "class SRWSRobertaModel(nn.Module):\n",
        "  def __init__(self):\n",
        "    super().__init__()\n",
        "\n",
        "    # config を設定することで、元の設定を変更できる？\n",
        "    # https://www.kaggle.com/c/commonlitreadabilityprize/discussion/260729\n",
        "    # 最終的にsigmoidに通すから、num_labelsは1でいい\n",
        "    self.roberta = RobertaForSequenceClassification.from_pretrained(CONFIG.model_name, num_labels=1)\n",
        "    # この辺を調整することで、モデル内の最終層に追加することができる。\n",
        "    # bertのoutputがclassificationなんで、そこを変更しないと\n",
        "    self.sigmoid = nn.Sigmoid()\n",
        "\n",
        "  def forward(self, input_ids, attention_mask):\n",
        "    roberta_output = self.roberta(input_ids=input_ids, attention_mask=attention_mask) \n",
        "    roberta_output = self.sigmoid(roberta_output.logits).squeeze()\n",
        "\n",
        "    return roberta_output"
      ],
      "execution_count": 13,
      "outputs": []
    },
    {
      "cell_type": "code",
      "metadata": {
        "id": "hB8VYTNW1MJc"
      },
      "source": [
        "class AverageMeter(object):\n",
        "    \"\"\"Computes and stores the average and current value\"\"\"\n",
        "\n",
        "    def __init__(self):\n",
        "        self.reset()\n",
        "\n",
        "    def reset(self):\n",
        "        self.val = 0\n",
        "        self.avg = 0\n",
        "        self.sum = 0\n",
        "        self.count = 0\n",
        "\n",
        "    def update(self, val, n=1):\n",
        "        self.val = val\n",
        "        self.sum += val * n\n",
        "        self.count += n\n",
        "        self.avg = self.sum / self.count\n",
        "\n",
        "\n",
        "def asMinutes(s):\n",
        "    m = math.floor(s / 60)\n",
        "    s -= m * 60\n",
        "    return \"%dm %ds\" % (m, s)\n",
        "\n",
        "\n",
        "def timeSince(since, percent):\n",
        "    now = time.time()\n",
        "    s = now - since\n",
        "    es = s / (percent)\n",
        "    rs = es - s\n",
        "    return \"%s (remain %s)\" % (asMinutes(s), asMinutes(rs))"
      ],
      "execution_count": 14,
      "outputs": []
    },
    {
      "cell_type": "code",
      "metadata": {
        "id": "b76ASi80wKMA"
      },
      "source": [
        "# 学習\n",
        "def train_fn(model, train_loader, optimizer, epoch, loss_function, scheduler=None):\n",
        "  start = end = time.time()\n",
        "  losses = AverageMeter()\n",
        "  model.train()\n",
        "\n",
        "  for batch_num, (input_ids, attention_mask, target) in enumerate(train_loader):\n",
        "    optimizer.zero_grad()\n",
        "\n",
        "    input_ids = input_ids.to(DEVICE)\n",
        "    attention_mask = attention_mask.to(DEVICE)\n",
        "    target = target.to(DEVICE)\n",
        "    batch_size = target.size(0)\n",
        "\n",
        "    pred = model(input_ids, attention_mask)\n",
        "\n",
        "    # Loss算出\n",
        "    loss = loss_function(pred, target)\n",
        "    losses.update(loss.item(), batch_size)\n",
        "    loss.backward()\n",
        "\n",
        "    optimizer.step()\n",
        "\n",
        "    if scheduler:\n",
        "      scheduler.step()\n",
        "\n",
        "    if batch_num % 100 == 0 or batch_num == (len(train_loader) -1):\n",
        "      print(\n",
        "            f\"Epoch: [{epoch + 1}][{batch_num}/{len(train_loader)}] \"\n",
        "            f\"Elapsed {timeSince(start, float(batch_num + 1) / len(train_loader)):s} \"\n",
        "            f\"Loss: {losses.avg:.4f} \"\n",
        "            )\n",
        "      \n",
        "  return losses.avg\n",
        "\n",
        "def valid_fn(valid_loader, model, loss_function):\n",
        "  start = end = time.time()\n",
        "  losses = AverageMeter()\n",
        "\n",
        "  model.eval()\n",
        "  preds = []\n",
        "\n",
        "  for batch_num, (input_ids, attention_mask, target) in enumerate(valid_loader):\n",
        "    input_ids = input_ids.to(DEVICE)\n",
        "    attention_mask = attention_mask.to(DEVICE)\n",
        "    target = target.to(DEVICE)\n",
        "    batch_size = target.size(0)\n",
        "\n",
        "    # compare loss\n",
        "    with torch.no_grad():\n",
        "      pred = model(input_ids, attention_mask)\n",
        "\n",
        "    loss = loss_function(pred, target)\n",
        "    losses.update(loss.item(), batch_size)\n",
        "\n",
        "    # スコア追加\n",
        "    preds.append(pred.to(\"cpu\").numpy())\n",
        "\n",
        "    if batch_num % 100 == 0 or batch_num == (len(valid_loader) - 1):\n",
        "      print(\n",
        "          f\"EVAL: [{batch_num}/{len(valid_loader)}]\"\n",
        "          f\"Elapsed {timeSince(start, float(batch_num+1) / len(valid_loader)):s}\"\n",
        "          f\"Loss: {losses.avg:.4f}\"\n",
        "      )\n",
        "  predictions = np.concatenate(preds)\n",
        "\n",
        "  return losses.avg, predictions\n",
        "\n",
        "# 予測\n",
        "def inference():\n",
        "    predictions = []\n",
        "\n",
        "    test_dataset = SRWSDataset(test,  inference_only=True)\n",
        "    test_loader = DataLoader(\n",
        "        test_dataset, \n",
        "        batch_size=CONFIG.valid_batch_size, \n",
        "        shuffle=False, \n",
        "        num_workers=4, \n",
        "        pin_memory=True\n",
        "    )\n",
        "\n",
        "    for fold in range(CONFIG.fold):\n",
        "        LOGGER.info(f\"========== model: {CONFIG.model_name} fold: {fold} inference ==========\")\n",
        "        model = SRWSRobertaModel()\n",
        "        model.to(DEVICE)\n",
        "        model.load_state_dict(torch.load(model_dir +CONFIG.exp + \"/\"+ f\"{CONFIG.model_name.split('/')[0]}_fold{fold}_best.pth\")[\"model\"])\n",
        "        model.eval()\n",
        "        preds = []\n",
        "        for i, (input_ids, attention_mask) in tqdm(enumerate(test_loader), total=len(test_loader)):\n",
        "            input_ids = input_ids.to(DEVICE)\n",
        "            attention_mask = attention_mask.to(DEVICE)\n",
        "            with torch.no_grad():\n",
        "                y_preds = model(input_ids, attention_mask)\n",
        "            preds.append(y_preds.to(\"cpu\").numpy())\n",
        "        preds = np.concatenate(preds)\n",
        "        predictions.append(preds)\n",
        "    predictions = np.mean(predictions, axis=0)\n",
        "\n",
        "    return predictions"
      ],
      "execution_count": 18,
      "outputs": []
    },
    {
      "cell_type": "code",
      "metadata": {
        "id": "ArvQGSHLZe_G"
      },
      "source": [
        "# 最適化（使ってない）\n",
        "# https://signate.jp/competitions/471/discussions/tf-roberta-base-baseline-cv08949-lb08734\n",
        "\n",
        "def opt_fbeta_threshold(y_true, y_pred):\n",
        "  \"\"\"fbeta score計算時のthresholdを最適化\"\"\"\n",
        "  def opt_(x):\n",
        "    return -fbeta_score(y_true, y_pred >= x, beta=7)\n",
        "  result = minimize(opt_, x0=np.array([0.1]), method='Powell')\n",
        "  best_threshold = result['x'].item()\n",
        "  return best_threshold"
      ],
      "execution_count": 19,
      "outputs": []
    },
    {
      "cell_type": "code",
      "metadata": {
        "id": "bHB9WrsPxS96"
      },
      "source": [
        "# LOOP\n",
        "def train_loop(train, fold):\n",
        "  LOGGER.info(f\"========== fold: {fold} training ==========\")\n",
        "\n",
        "  # ====================================================\n",
        "  # Data Loader\n",
        "  # ====================================================\n",
        "  trn_idx = train[train[\"fold\"] != fold].index\n",
        "  val_idx = train[train[\"fold\"] == fold].index\n",
        "\n",
        "  train_folds = train.loc[trn_idx].reset_index(drop=True)\n",
        "  valid_folds = train.loc[val_idx].reset_index(drop=True)\n",
        "\n",
        "  train_dataset = SRWSDataset(train_folds)\n",
        "  valid_dataset = SRWSDataset(valid_folds)\n",
        "\n",
        "  train_loader = DataLoader(\n",
        "        train_dataset,\n",
        "        batch_size=CONFIG.train_batch_size,\n",
        "        shuffle=True,\n",
        "        num_workers=4,\n",
        "        pin_memory=True, # https://qiita.com/sugulu_Ogawa_ISID/items/62f5f7adee083d96a587\n",
        "        drop_last=True,\n",
        "  )\n",
        "  valid_loader = DataLoader(\n",
        "        valid_dataset,\n",
        "        batch_size=CONFIG.valid_batch_size,\n",
        "        shuffle=False,\n",
        "        num_workers=4,\n",
        "        pin_memory=True,\n",
        "        drop_last=False,\n",
        "  )\n",
        "\n",
        "  # ====================================================\n",
        "  # Model\n",
        "  # ====================================================\n",
        "  model = SRWSRobertaModel()\n",
        "  model.to(DEVICE)\n",
        "\n",
        "  optimizer = AdamW(model.parameters(), lr=CONFIG.lr)\n",
        "\n",
        "  # Loss_function\n",
        "  loss_function = nn.BCELoss()\n",
        "\n",
        "  # ====================================================\n",
        "  # LOOP\n",
        "  # ====================================================\n",
        "\n",
        "  best_score = -1\n",
        "  best_loss = np.inf\n",
        "\n",
        "  # 学習\n",
        "  for epoch in range(CONFIG.epochs):\n",
        "    start_time = time.time()\n",
        "\n",
        "    # train\n",
        "    avg_loss = train_fn(model, train_loader, optimizer, epoch, loss_function)\n",
        "\n",
        "    # valid\n",
        "    avg_val_loss, preds = valid_fn(valid_loader, model,loss_function)\n",
        "    valid_labels = valid_folds[\"judgement\"].values\n",
        "\n",
        "    # border最適化\n",
        "    border_m = opt_fbeta_threshold(valid_labels, preds)\n",
        "\n",
        "    # score\n",
        "    score = fbeta_score(valid_labels, np.where(preds < border_m, 0, 1), beta=7.0)\n",
        "\n",
        "    elapsed = time.time() - start_time\n",
        "    LOGGER.info(\n",
        "            f\"Epoch {epoch+1} - avg_train_loss: {avg_loss:.4f}  avg_val_loss: {avg_val_loss:.4f}  time: {elapsed:.0f}s\"\n",
        "    )\n",
        "    LOGGER.info(f\"Epoch {epoch+1} - Score: {score}\")\n",
        "\n",
        "    if score > best_score:\n",
        "      best_score = score\n",
        "      LOGGER.info(f\"Epoch {epoch+1} - Save Best Score: {best_score:.4f} Model\")\n",
        "      torch.save(\n",
        "                {\"model\": model.state_dict(), \"preds\": preds}, model_dir +CONFIG.exp + \"/\"+ f\"{CONFIG.model_name.split('/')[0]}_fold{fold}_best.pth\"\n",
        "      ) # scibertでの変更\n",
        "  check_point = torch.load(model_dir +CONFIG.exp + \"/\"+ f\"{CONFIG.model_name.split('/')[0]}_fold{fold}_best.pth\")\n",
        "\n",
        "  valid_folds[\"preds\"] = check_point[\"preds\"]\n",
        "\n",
        "  return valid_folds"
      ],
      "execution_count": 20,
      "outputs": []
    },
    {
      "cell_type": "code",
      "metadata": {
        "id": "RkzBmBnLBv86"
      },
      "source": [
        "def get_result(result_df):\n",
        "    preds = result_df[\"preds\"].values\n",
        "    labels = result_df[\"judgement\"].values\n",
        "    best_threshold = opt_fbeta_threshold(labels, preds)\n",
        "    print(\"Best_Threshold：\" + str(best_threshold))\n",
        "    # 上実行すると、ValueError: Classification metrics can't handle a mix of continuous and binary targets\n",
        "    score = fbeta_score(labels, np.where(preds < best_threshold, 0, 1), beta=7.0)\n",
        "    LOGGER.info(f\"Score: {score:<.5f}\")"
      ],
      "execution_count": 21,
      "outputs": []
    },
    {
      "cell_type": "code",
      "metadata": {
        "id": "9mZGKRQADebR"
      },
      "source": [
        "def clean_stopword(text):\n",
        "  stopwords = nltk.corpus.stopwords.words('english')\n",
        "  list_x = text.split()\n",
        "  res = []\n",
        "  for w in list_x:\n",
        "    if w not in stopwords:\n",
        "      res.append(w)\n",
        "  return ' '.join(res)\n",
        "\n",
        "def clean_puncts(x):\n",
        "  # 化学式とかがあるから '-'は削除しないほうがいいか？\n",
        "\n",
        "  puncts = [',', '.', '\"', ':', ')', '(', '-', '!', '?', '|', ';', \"'\", '$', '&', '/', '[', ']', '>', '%', '=', '#', '*', '+', '\\\\', '•',  '~', '@', '£',\n",
        "            '·', '_', '{', '}', '©', '^', '®', '`',  '<', '→', '°', '€', '™', '›',  '♥', '←', '×', '§', '″', '′', 'Â', '█', '½', 'à', '…',\n",
        "            '“', '★', '”', '–', '●', 'â', '►', '−', '¢', '²', '¬', '░', '¶', '↑', '±', '¿', '▾', '═', '¦', '║', '―', '¥', '▓', '—', '‹', '─',\n",
        "            '▒', '：', '¼', '⊕', '▼', '▪', '†', '■', '’', '▀', '¨', '▄', '♫', '☆', 'é', '¯', '♦', '¤', '▲', 'è', '¸', '¾', 'Ã', '⋅', '‘', '∞', '«',\n",
        "            '∙', '）', '↓', '、', '│', '（', '»', '，', '♪', '╩', '╚', '³', '・', '╦', '╣', '╔', '╗', '▬', '❤', 'ï', 'Ø', '¹', '≤', '‡', '√', '（', '）', '～',\n",
        "            '➡', '％', '⇒', '▶', '「', '➄', '➆',  '➊', '➋', '➌', '➍', '⓪', '①', '②', '③', '④', '⑤', '⑰', '❶', '❷', '❸', '❹', '❺', '❻', '❼', '❽',  \n",
        "            '＝', '※', '㈱', '､', '△', '℮', 'ⅼ', '‐', '｣', '┝', '↳', '◉', '／', '＋', '○',\n",
        "            '【', '】', '✅', '☑', '➤', 'ﾞ', '↳', '〶', '☛', '｢', '⁺', '『', '≫',\n",
        "            'Â©', '<sub>','Aﾎｲ', 'ﾎｲ', \"ﾃｩ\"\n",
        "          ] \n",
        "  # 文字化け対応はここで対応するしかない？\n",
        "  \n",
        "  for punct in puncts:\n",
        "    x = x.replace(punct, '')\n",
        "  return x\n",
        "\n",
        "def _pre_preprocess(x):\n",
        "  return str(x).lower() \n",
        "\n",
        "def rm_num(x, use_num=True):\n",
        "  numbers = [\"0\",\"1\",\"2\",\"3\",\"4\",\"5\",\"6\",\"7\",\"8\",\"9\",\"０\",\"１\",\"２\",\"３\",\"４\",\"５\",\"６\",\"７\",\"８\",\"９\"]\n",
        "  x = re.sub('[0-9]{5,}', '', x)\n",
        "  x = re.sub('[0-9]{4}', '', x)\n",
        "  x = re.sub('[0-9]{3}', '', x)\n",
        "  x = re.sub('[0-9]{2}', '', x)    \n",
        "  for i in numbers:\n",
        "    x = x.replace(str(i), '')        \n",
        "  return x\n",
        "\n",
        "def convert_mojibake(text):\n",
        "  text = text.encode(\"shift-jis\").decode(\"utf-8\", errors=\"ignore\")\n",
        "  return text\n",
        "\n",
        "def remove_double(text):\n",
        "  text = text.replace(\"  \", \" \")\n",
        "  return text\n",
        "\n",
        "def preprocess_text(text):\n",
        "  #text = _pre_preprocess(text)\n",
        "  #text = clean_stopword(text)\n",
        "  text = clean_puncts(text)\n",
        "  text = rm_num(text)\n",
        "  text = remove_double(text)\n",
        "\n",
        "  return text\n",
        "\n",
        "def split_copyright(text):\n",
        "  if \"Copyright\" in text:\n",
        "    text = text.split('Copyright')[0]\n",
        "    return text\n",
        "  else:\n",
        "    return text\n"
      ],
      "execution_count": 22,
      "outputs": []
    },
    {
      "cell_type": "code",
      "metadata": {
        "id": "NeRaL5mh-ozs"
      },
      "source": [
        "pd.set_option(\"display.max_colwidth\", 50)\n",
        "train = pd.read_csv(input_dir + \"train.csv\")\n",
        "test = pd.read_csv(input_dir + \"test.csv\")\n",
        "sub = pd.read_csv(input_dir + \"sample_submit.csv\", header=None)\n",
        "sub.columns = [\"id\", \"judgement\"]"
      ],
      "execution_count": 23,
      "outputs": []
    },
    {
      "cell_type": "code",
      "metadata": {
        "colab": {
          "base_uri": "https://localhost:8080/",
          "height": 204
        },
        "id": "5pLNyTCB-po5",
        "outputId": "75eb77c0-fec1-4265-827a-4df3c8da4e81"
      },
      "source": [
        "train = get_train_data(train)\n",
        "train.head()"
      ],
      "execution_count": 24,
      "outputs": [
        {
          "output_type": "execute_result",
          "data": {
            "text/html": [
              "<div>\n",
              "<style scoped>\n",
              "    .dataframe tbody tr th:only-of-type {\n",
              "        vertical-align: middle;\n",
              "    }\n",
              "\n",
              "    .dataframe tbody tr th {\n",
              "        vertical-align: top;\n",
              "    }\n",
              "\n",
              "    .dataframe thead th {\n",
              "        text-align: right;\n",
              "    }\n",
              "</style>\n",
              "<table border=\"1\" class=\"dataframe\">\n",
              "  <thead>\n",
              "    <tr style=\"text-align: right;\">\n",
              "      <th></th>\n",
              "      <th>id</th>\n",
              "      <th>title</th>\n",
              "      <th>abstract</th>\n",
              "      <th>judgement</th>\n",
              "      <th>fold</th>\n",
              "    </tr>\n",
              "  </thead>\n",
              "  <tbody>\n",
              "    <tr>\n",
              "      <th>0</th>\n",
              "      <td>0</td>\n",
              "      <td>One-year age changes in MRI brain volumes in o...</td>\n",
              "      <td>Longitudinal studies indicate that declines in...</td>\n",
              "      <td>0</td>\n",
              "      <td>4</td>\n",
              "    </tr>\n",
              "    <tr>\n",
              "      <th>1</th>\n",
              "      <td>1</td>\n",
              "      <td>Supportive CSF biomarker evidence to enhance t...</td>\n",
              "      <td>The present study was undertaken to validate t...</td>\n",
              "      <td>0</td>\n",
              "      <td>1</td>\n",
              "    </tr>\n",
              "    <tr>\n",
              "      <th>2</th>\n",
              "      <td>2</td>\n",
              "      <td>Occurrence of basal ganglia germ cell tumors w...</td>\n",
              "      <td>Objective: To report a case series in which ba...</td>\n",
              "      <td>0</td>\n",
              "      <td>2</td>\n",
              "    </tr>\n",
              "    <tr>\n",
              "      <th>3</th>\n",
              "      <td>3</td>\n",
              "      <td>New developments in diagnosis and therapy of C...</td>\n",
              "      <td>The etiology and pathogenesis of idiopathic ch...</td>\n",
              "      <td>0</td>\n",
              "      <td>0</td>\n",
              "    </tr>\n",
              "    <tr>\n",
              "      <th>4</th>\n",
              "      <td>4</td>\n",
              "      <td>Prolonged shedding of SARS-CoV-2 in an elderly...</td>\n",
              "      <td>NaN</td>\n",
              "      <td>0</td>\n",
              "      <td>0</td>\n",
              "    </tr>\n",
              "  </tbody>\n",
              "</table>\n",
              "</div>"
            ],
            "text/plain": [
              "   id                                              title  ... judgement  fold\n",
              "0   0  One-year age changes in MRI brain volumes in o...  ...         0     4\n",
              "1   1  Supportive CSF biomarker evidence to enhance t...  ...         0     1\n",
              "2   2  Occurrence of basal ganglia germ cell tumors w...  ...         0     2\n",
              "3   3  New developments in diagnosis and therapy of C...  ...         0     0\n",
              "4   4  Prolonged shedding of SARS-CoV-2 in an elderly...  ...         0     0\n",
              "\n",
              "[5 rows x 5 columns]"
            ]
          },
          "metadata": {
            "tags": []
          },
          "execution_count": 24
        }
      ]
    },
    {
      "cell_type": "code",
      "metadata": {
        "colab": {
          "base_uri": "https://localhost:8080/",
          "height": 289
        },
        "id": "H36lHBpwcJz3",
        "outputId": "5cfea5b4-a271-4fe4-c86d-9768c62fd70f"
      },
      "source": [
        "train[\"title_abst\"] = train[\"title\"] + train[\"abstract\"]\n",
        "train[\"title_abst\"].fillna(train[\"title\"], inplace=True)\n",
        "\n",
        "test[\"title_abst\"] = test[\"title\"] + test[\"abstract\"]\n",
        "test[\"title_abst\"].fillna(test[\"title\"], inplace=True)\n",
        "\n",
        "train.head()"
      ],
      "execution_count": 25,
      "outputs": [
        {
          "output_type": "execute_result",
          "data": {
            "text/html": [
              "<div>\n",
              "<style scoped>\n",
              "    .dataframe tbody tr th:only-of-type {\n",
              "        vertical-align: middle;\n",
              "    }\n",
              "\n",
              "    .dataframe tbody tr th {\n",
              "        vertical-align: top;\n",
              "    }\n",
              "\n",
              "    .dataframe thead th {\n",
              "        text-align: right;\n",
              "    }\n",
              "</style>\n",
              "<table border=\"1\" class=\"dataframe\">\n",
              "  <thead>\n",
              "    <tr style=\"text-align: right;\">\n",
              "      <th></th>\n",
              "      <th>id</th>\n",
              "      <th>title</th>\n",
              "      <th>abstract</th>\n",
              "      <th>judgement</th>\n",
              "      <th>fold</th>\n",
              "      <th>title_abst</th>\n",
              "    </tr>\n",
              "  </thead>\n",
              "  <tbody>\n",
              "    <tr>\n",
              "      <th>0</th>\n",
              "      <td>0</td>\n",
              "      <td>One-year age changes in MRI brain volumes in o...</td>\n",
              "      <td>Longitudinal studies indicate that declines in...</td>\n",
              "      <td>0</td>\n",
              "      <td>4</td>\n",
              "      <td>One-year age changes in MRI brain volumes in o...</td>\n",
              "    </tr>\n",
              "    <tr>\n",
              "      <th>1</th>\n",
              "      <td>1</td>\n",
              "      <td>Supportive CSF biomarker evidence to enhance t...</td>\n",
              "      <td>The present study was undertaken to validate t...</td>\n",
              "      <td>0</td>\n",
              "      <td>1</td>\n",
              "      <td>Supportive CSF biomarker evidence to enhance t...</td>\n",
              "    </tr>\n",
              "    <tr>\n",
              "      <th>2</th>\n",
              "      <td>2</td>\n",
              "      <td>Occurrence of basal ganglia germ cell tumors w...</td>\n",
              "      <td>Objective: To report a case series in which ba...</td>\n",
              "      <td>0</td>\n",
              "      <td>2</td>\n",
              "      <td>Occurrence of basal ganglia germ cell tumors w...</td>\n",
              "    </tr>\n",
              "    <tr>\n",
              "      <th>3</th>\n",
              "      <td>3</td>\n",
              "      <td>New developments in diagnosis and therapy of C...</td>\n",
              "      <td>The etiology and pathogenesis of idiopathic ch...</td>\n",
              "      <td>0</td>\n",
              "      <td>0</td>\n",
              "      <td>New developments in diagnosis and therapy of C...</td>\n",
              "    </tr>\n",
              "    <tr>\n",
              "      <th>4</th>\n",
              "      <td>4</td>\n",
              "      <td>Prolonged shedding of SARS-CoV-2 in an elderly...</td>\n",
              "      <td>NaN</td>\n",
              "      <td>0</td>\n",
              "      <td>0</td>\n",
              "      <td>Prolonged shedding of SARS-CoV-2 in an elderly...</td>\n",
              "    </tr>\n",
              "  </tbody>\n",
              "</table>\n",
              "</div>"
            ],
            "text/plain": [
              "   id  ...                                         title_abst\n",
              "0   0  ...  One-year age changes in MRI brain volumes in o...\n",
              "1   1  ...  Supportive CSF biomarker evidence to enhance t...\n",
              "2   2  ...  Occurrence of basal ganglia germ cell tumors w...\n",
              "3   3  ...  New developments in diagnosis and therapy of C...\n",
              "4   4  ...  Prolonged shedding of SARS-CoV-2 in an elderly...\n",
              "\n",
              "[5 rows x 6 columns]"
            ]
          },
          "metadata": {
            "tags": []
          },
          "execution_count": 25
        }
      ]
    },
    {
      "cell_type": "code",
      "metadata": {
        "id": "kkKHrVztDPUW"
      },
      "source": [
        "# preprocess\n",
        "train[\"title_abst\"] = train[\"title_abst\"].apply(lambda x: preprocess_text(x))\n",
        "test[\"title_abst\"] = test[\"title_abst\"].apply(lambda x: preprocess_text(x))\n",
        "\n",
        "# titleの単語数が3以下のものは除外してみる\n",
        "train[\"title_word_len\"] = train[\"title\"].str.split(\" \").str.len()\n",
        "train = train[train[\"title_word_len\"]>3]\n",
        "\n",
        "# titleが他言語の場合は除外\n",
        "train[\"title_lang\"] = train[\"title\"].fillna(\"\").map(lambda x: cld2.detect(x)[2][0][1])\n",
        "train = train[(train[\"title_lang\"]==\"en\")|(train[\"title_lang\"]==\"un\")]\n",
        "\n",
        "# copyright以降は削除したい\n",
        "train[\"title_abst\"] = train[\"title_abst\"].apply(lambda x: split_copyright(x))\n",
        "test[\"title_abst\"] = test[\"title_abst\"].apply(lambda x: split_copyright(x))"
      ],
      "execution_count": 26,
      "outputs": []
    },
    {
      "cell_type": "code",
      "metadata": {
        "colab": {
          "base_uri": "https://localhost:8080/"
        },
        "id": "0lY2xUY7vBst",
        "outputId": "fe76b46a-1942-4cc9-9ba3-07e3b46a275e"
      },
      "source": [
        "print(len(pd.read_csv(input_dir + \"train.csv\")))\n",
        "print(len(train))"
      ],
      "execution_count": 27,
      "outputs": [
        {
          "output_type": "stream",
          "text": [
            "27145\n",
            "26921\n"
          ],
          "name": "stdout"
        }
      ]
    },
    {
      "cell_type": "code",
      "metadata": {
        "colab": {
          "base_uri": "https://localhost:8080/",
          "height": 1000,
          "referenced_widgets": [
            "4a8fc0e7a6a1446192f9c46089e0800c",
            "90899abe5f9d4e9cbbb475d490f1182c",
            "6ab7ef788f564367811650d43f0a6cfc",
            "6874b4fca42d4f48937e03dc0476a1f3",
            "2c2abbb117504b41a06b5af0461276ae",
            "6dcda5d2ac2445f1af51f19d2fc422f6",
            "899547931e5a47088b87e42471adc78a",
            "d437014795ce4d74ac51f0e940496b40",
            "5a832c514a3e4278b4810576c43126bb",
            "c0b65048584847dbabcc76bd8876aa49",
            "66f056c7c5264bbba006f70f8f768c6b",
            "64ade5bcf42541bfb5d958909df88858",
            "efa3d6c3f49140ad836445e722ee6225",
            "4aabdddf9be7466d85a22962b60950f2",
            "5a264ac9c4464e9e84c5c13e009f85cd",
            "c079dcc855a748d5b03a5e7c08499edc",
            "6dfc4ddca26045d58c91c551e240b623",
            "1e724488e53a4331974c556787d7f958",
            "74f28dcce3204b37a912430dad363d93",
            "5b7833fc6d4746cc803503ec6f9b7e2c",
            "3c2f31b191214ab897f724e82c6e9a2f",
            "4ce185b9ba8b4e5d8a276f5532886868",
            "46d28d8fb42f40f4a74eff07dd95a473",
            "ebfcd8ae1e8644029e07d288448e4dd1",
            "42bad438d37a449583170ed7bab08ced",
            "32b06002e1b14015b4a0474cdab1a030",
            "4a7739ce16c8400893b96fe62ec7f2ed",
            "bb4d76ce733b405b9b7a9e70354c4923",
            "257b0ede18294aa8a9ab428229413fe4",
            "01fdea49dac2438988f4d97ba7dee5ed",
            "9a553c20935e4e32a9587474942de7cd",
            "e06d24ba9750489f9c9ae54672ca542b",
            "5870eaca21cd47a694cc33dde3bd028f",
            "c3bf4b8a8ec14ec4925529c74b899bb7",
            "608ef4b5766d4d359c564b2f26c76ea0",
            "ddbb29e620e84f8492bc5e6e5ba9e44c",
            "60f422fdd0aa456f948f8315c77804f4",
            "9ea0a65736504828b1ef109f605b150c",
            "ea2086d5e2b340a7b327865bada226b7",
            "bde0fba4e4704f3988f56256c3bac59b",
            "b963b0d173e34264bdd420508f9a2fbe",
            "1e4192f0ff6442deb18246b24ac9b0d2",
            "87e9796902164257b4d5711b0e6c8b90",
            "2e5e26b25bfb4b7cbc3ba77195f8ec36",
            "95649b3a77aa4086a90bed2e3c6e8ad4",
            "2225434c72174b448a84c843c1ce0d93",
            "34516df0db3b43d08ee3e3b7a7991b39",
            "322886c54c76495eb9a10092a11df045",
            "307c8e423f7441dd96a649c943bd6823",
            "60fe9d75df644ca9994511ce8a5f5929",
            "c316991c154c45bf84dba1e002b48f5f",
            "119ebb8220ac48ebaaf85d80b4851934",
            "68de228233eb4acf8644965dd6694f09",
            "bda19e3002b044cebe996f1af5fbdb54",
            "11f3c49c6c784d20b002298fa7015452"
          ]
        },
        "id": "n8wvJSraCIIi",
        "outputId": "e7d8aff2-28f7-40c4-a8ec-a5fde5920ea3"
      },
      "source": [
        "# Training\n",
        "border = len(train[train[\"judgement\"] == 1]) / len(train[\"judgement\"]) # 0.023245467689912133\n",
        "border = border * 0.6\n",
        " \n",
        "oof_df = pd.DataFrame()\n",
        "for fold in range(CONFIG.fold):\n",
        "  _oof_df = train_loop(train, fold)\n",
        "  oof_df = pd.concat([oof_df, _oof_df])\n",
        "  LOGGER.info(f\"========== fold: {fold} result ==========\")\n",
        "  get_result(_oof_df)\n",
        "        \n",
        "# CV result\n",
        "LOGGER.info(f\"========== CV ==========\")\n",
        "get_result(oof_df)\n",
        "    \n",
        "# Save OOF result\n",
        "oof_df.to_csv(pred_dir +CONFIG.exp + \"/oof_df.csv\", index=False)"
      ],
      "execution_count": 28,
      "outputs": [
        {
          "output_type": "stream",
          "text": [
            "========== fold: 0 training ==========\n"
          ],
          "name": "stderr"
        },
        {
          "output_type": "display_data",
          "data": {
            "application/vnd.jupyter.widget-view+json": {
              "model_id": "4a8fc0e7a6a1446192f9c46089e0800c",
              "version_minor": 0,
              "version_major": 2
            },
            "text/plain": [
              "Downloading:   0%|          | 0.00/899k [00:00<?, ?B/s]"
            ]
          },
          "metadata": {
            "tags": []
          }
        },
        {
          "output_type": "display_data",
          "data": {
            "application/vnd.jupyter.widget-view+json": {
              "model_id": "64ade5bcf42541bfb5d958909df88858",
              "version_minor": 0,
              "version_major": 2
            },
            "text/plain": [
              "Downloading:   0%|          | 0.00/456k [00:00<?, ?B/s]"
            ]
          },
          "metadata": {
            "tags": []
          }
        },
        {
          "output_type": "display_data",
          "data": {
            "application/vnd.jupyter.widget-view+json": {
              "model_id": "46d28d8fb42f40f4a74eff07dd95a473",
              "version_minor": 0,
              "version_major": 2
            },
            "text/plain": [
              "Downloading:   0%|          | 0.00/1.36M [00:00<?, ?B/s]"
            ]
          },
          "metadata": {
            "tags": []
          }
        },
        {
          "output_type": "display_data",
          "data": {
            "application/vnd.jupyter.widget-view+json": {
              "model_id": "c3bf4b8a8ec14ec4925529c74b899bb7",
              "version_minor": 0,
              "version_major": 2
            },
            "text/plain": [
              "Downloading:   0%|          | 0.00/481 [00:00<?, ?B/s]"
            ]
          },
          "metadata": {
            "tags": []
          }
        },
        {
          "output_type": "display_data",
          "data": {
            "application/vnd.jupyter.widget-view+json": {
              "model_id": "95649b3a77aa4086a90bed2e3c6e8ad4",
              "version_minor": 0,
              "version_major": 2
            },
            "text/plain": [
              "Downloading:   0%|          | 0.00/501M [00:00<?, ?B/s]"
            ]
          },
          "metadata": {
            "tags": []
          }
        },
        {
          "output_type": "stream",
          "text": [
            "Some weights of the model checkpoint at roberta-base were not used when initializing RobertaForSequenceClassification: ['lm_head.layer_norm.bias', 'lm_head.bias', 'roberta.pooler.dense.bias', 'lm_head.layer_norm.weight', 'lm_head.dense.weight', 'lm_head.decoder.weight', 'lm_head.dense.bias', 'roberta.pooler.dense.weight']\n",
            "- This IS expected if you are initializing RobertaForSequenceClassification from the checkpoint of a model trained on another task or with another architecture (e.g. initializing a BertForSequenceClassification model from a BertForPreTraining model).\n",
            "- This IS NOT expected if you are initializing RobertaForSequenceClassification from the checkpoint of a model that you expect to be exactly identical (initializing a BertForSequenceClassification model from a BertForSequenceClassification model).\n",
            "Some weights of RobertaForSequenceClassification were not initialized from the model checkpoint at roberta-base and are newly initialized: ['classifier.dense.weight', 'classifier.out_proj.bias', 'classifier.dense.bias', 'classifier.out_proj.weight']\n",
            "You should probably TRAIN this model on a down-stream task to be able to use it for predictions and inference.\n"
          ],
          "name": "stderr"
        },
        {
          "output_type": "stream",
          "text": [
            "Epoch: [1][0/1345] Elapsed 0m 0s (remain 13m 53s) Loss: 0.6884 \n",
            "Epoch: [1][100/1345] Elapsed 0m 27s (remain 5m 36s) Loss: 0.1487 \n",
            "Epoch: [1][200/1345] Elapsed 0m 54s (remain 5m 8s) Loss: 0.1296 \n",
            "Epoch: [1][300/1345] Elapsed 1m 21s (remain 4m 41s) Loss: 0.1226 \n",
            "Epoch: [1][400/1345] Elapsed 1m 47s (remain 4m 14s) Loss: 0.1103 \n",
            "Epoch: [1][500/1345] Elapsed 2m 14s (remain 3m 47s) Loss: 0.1088 \n",
            "Epoch: [1][600/1345] Elapsed 2m 41s (remain 3m 20s) Loss: 0.1094 \n",
            "Epoch: [1][700/1345] Elapsed 3m 8s (remain 2m 53s) Loss: 0.1073 \n",
            "Epoch: [1][800/1345] Elapsed 3m 35s (remain 2m 26s) Loss: 0.1026 \n",
            "Epoch: [1][900/1345] Elapsed 4m 2s (remain 1m 59s) Loss: 0.0995 \n",
            "Epoch: [1][1000/1345] Elapsed 4m 29s (remain 1m 32s) Loss: 0.0961 \n",
            "Epoch: [1][1100/1345] Elapsed 4m 56s (remain 1m 5s) Loss: 0.0945 \n",
            "Epoch: [1][1200/1345] Elapsed 5m 23s (remain 0m 38s) Loss: 0.0924 \n",
            "Epoch: [1][1300/1345] Elapsed 5m 50s (remain 0m 11s) Loss: 0.0921 \n",
            "Epoch: [1][1344/1345] Elapsed 6m 2s (remain 0m 0s) Loss: 0.0918 \n",
            "EVAL: [0/169]Elapsed 0m 0s (remain 0m 57s)Loss: 0.0224\n",
            "EVAL: [100/169]Elapsed 0m 16s (remain 0m 11s)Loss: 0.0576\n"
          ],
          "name": "stdout"
        },
        {
          "output_type": "stream",
          "text": [
            "Epoch 1 - avg_train_loss: 0.0918  avg_val_loss: 0.0589  time: 391s\n",
            "Epoch 1 - Score: 0.8420085731781997\n",
            "Epoch 1 - Save Best Score: 0.8420 Model\n"
          ],
          "name": "stderr"
        },
        {
          "output_type": "stream",
          "text": [
            "EVAL: [168/169]Elapsed 0m 27s (remain 0m 0s)Loss: 0.0589\n"
          ],
          "name": "stdout"
        },
        {
          "output_type": "stream",
          "text": [
            "========== fold: 0 result ==========\n",
            "Score: 0.84201\n",
            "========== fold: 1 training ==========\n"
          ],
          "name": "stderr"
        },
        {
          "output_type": "stream",
          "text": [
            "Best_Threshold：0.034143478676342924\n"
          ],
          "name": "stdout"
        },
        {
          "output_type": "stream",
          "text": [
            "Some weights of the model checkpoint at roberta-base were not used when initializing RobertaForSequenceClassification: ['lm_head.layer_norm.bias', 'lm_head.bias', 'roberta.pooler.dense.bias', 'lm_head.layer_norm.weight', 'lm_head.dense.weight', 'lm_head.decoder.weight', 'lm_head.dense.bias', 'roberta.pooler.dense.weight']\n",
            "- This IS expected if you are initializing RobertaForSequenceClassification from the checkpoint of a model trained on another task or with another architecture (e.g. initializing a BertForSequenceClassification model from a BertForPreTraining model).\n",
            "- This IS NOT expected if you are initializing RobertaForSequenceClassification from the checkpoint of a model that you expect to be exactly identical (initializing a BertForSequenceClassification model from a BertForSequenceClassification model).\n",
            "Some weights of RobertaForSequenceClassification were not initialized from the model checkpoint at roberta-base and are newly initialized: ['classifier.dense.weight', 'classifier.out_proj.bias', 'classifier.dense.bias', 'classifier.out_proj.weight']\n",
            "You should probably TRAIN this model on a down-stream task to be able to use it for predictions and inference.\n"
          ],
          "name": "stderr"
        },
        {
          "output_type": "stream",
          "text": [
            "Epoch: [1][0/1346] Elapsed 0m 0s (remain 10m 25s) Loss: 0.7278 \n",
            "Epoch: [1][100/1346] Elapsed 0m 27s (remain 5m 36s) Loss: 0.1570 \n",
            "Epoch: [1][200/1346] Elapsed 0m 54s (remain 5m 8s) Loss: 0.1325 \n",
            "Epoch: [1][300/1346] Elapsed 1m 21s (remain 4m 41s) Loss: 0.1292 \n",
            "Epoch: [1][400/1346] Elapsed 1m 48s (remain 4m 15s) Loss: 0.1248 \n",
            "Epoch: [1][500/1346] Elapsed 2m 15s (remain 3m 48s) Loss: 0.1197 \n",
            "Epoch: [1][600/1346] Elapsed 2m 42s (remain 3m 21s) Loss: 0.1132 \n",
            "Epoch: [1][700/1346] Elapsed 3m 9s (remain 2m 54s) Loss: 0.1101 \n",
            "Epoch: [1][800/1346] Elapsed 3m 36s (remain 2m 27s) Loss: 0.1073 \n",
            "Epoch: [1][900/1346] Elapsed 4m 3s (remain 2m 0s) Loss: 0.1072 \n",
            "Epoch: [1][1000/1346] Elapsed 4m 30s (remain 1m 33s) Loss: 0.1039 \n",
            "Epoch: [1][1100/1346] Elapsed 4m 57s (remain 1m 6s) Loss: 0.1025 \n",
            "Epoch: [1][1200/1346] Elapsed 5m 24s (remain 0m 39s) Loss: 0.0999 \n",
            "Epoch: [1][1300/1346] Elapsed 5m 51s (remain 0m 12s) Loss: 0.0993 \n",
            "Epoch: [1][1345/1346] Elapsed 6m 3s (remain 0m 0s) Loss: 0.0987 \n",
            "EVAL: [0/169]Elapsed 0m 0s (remain 0m 56s)Loss: 0.0269\n",
            "EVAL: [100/169]Elapsed 0m 16s (remain 0m 11s)Loss: 0.0671\n",
            "EVAL: [168/169]Elapsed 0m 27s (remain 0m 0s)Loss: 0.0723\n"
          ],
          "name": "stdout"
        },
        {
          "output_type": "stream",
          "text": [
            "Epoch 1 - avg_train_loss: 0.0987  avg_val_loss: 0.0723  time: 392s\n",
            "Epoch 1 - Score: 0.7197121151539384\n",
            "Epoch 1 - Save Best Score: 0.7197 Model\n",
            "========== fold: 1 result ==========\n",
            "Score: 0.71971\n",
            "========== fold: 2 training ==========\n"
          ],
          "name": "stderr"
        },
        {
          "output_type": "stream",
          "text": [
            "Best_Threshold：0.016019002777885146\n"
          ],
          "name": "stdout"
        },
        {
          "output_type": "stream",
          "text": [
            "Some weights of the model checkpoint at roberta-base were not used when initializing RobertaForSequenceClassification: ['lm_head.layer_norm.bias', 'lm_head.bias', 'roberta.pooler.dense.bias', 'lm_head.layer_norm.weight', 'lm_head.dense.weight', 'lm_head.decoder.weight', 'lm_head.dense.bias', 'roberta.pooler.dense.weight']\n",
            "- This IS expected if you are initializing RobertaForSequenceClassification from the checkpoint of a model trained on another task or with another architecture (e.g. initializing a BertForSequenceClassification model from a BertForPreTraining model).\n",
            "- This IS NOT expected if you are initializing RobertaForSequenceClassification from the checkpoint of a model that you expect to be exactly identical (initializing a BertForSequenceClassification model from a BertForSequenceClassification model).\n",
            "Some weights of RobertaForSequenceClassification were not initialized from the model checkpoint at roberta-base and are newly initialized: ['classifier.dense.weight', 'classifier.out_proj.bias', 'classifier.dense.bias', 'classifier.out_proj.weight']\n",
            "You should probably TRAIN this model on a down-stream task to be able to use it for predictions and inference.\n"
          ],
          "name": "stderr"
        },
        {
          "output_type": "stream",
          "text": [
            "Epoch: [1][0/1345] Elapsed 0m 0s (remain 10m 59s) Loss: 0.8226 \n",
            "Epoch: [1][100/1345] Elapsed 0m 27s (remain 5m 36s) Loss: 0.1904 \n",
            "Epoch: [1][200/1345] Elapsed 0m 54s (remain 5m 8s) Loss: 0.1541 \n",
            "Epoch: [1][300/1345] Elapsed 1m 20s (remain 4m 40s) Loss: 0.1321 \n",
            "Epoch: [1][400/1345] Elapsed 1m 47s (remain 4m 13s) Loss: 0.1307 \n",
            "Epoch: [1][500/1345] Elapsed 2m 14s (remain 3m 46s) Loss: 0.1218 \n",
            "Epoch: [1][600/1345] Elapsed 2m 41s (remain 3m 20s) Loss: 0.1155 \n",
            "Epoch: [1][700/1345] Elapsed 3m 8s (remain 2m 53s) Loss: 0.1107 \n",
            "Epoch: [1][800/1345] Elapsed 3m 35s (remain 2m 26s) Loss: 0.1068 \n",
            "Epoch: [1][900/1345] Elapsed 4m 2s (remain 1m 59s) Loss: 0.1043 \n",
            "Epoch: [1][1000/1345] Elapsed 4m 29s (remain 1m 32s) Loss: 0.1007 \n",
            "Epoch: [1][1100/1345] Elapsed 4m 56s (remain 1m 5s) Loss: 0.0976 \n",
            "Epoch: [1][1200/1345] Elapsed 5m 22s (remain 0m 38s) Loss: 0.0980 \n",
            "Epoch: [1][1300/1345] Elapsed 5m 49s (remain 0m 11s) Loss: 0.0957 \n",
            "Epoch: [1][1344/1345] Elapsed 6m 1s (remain 0m 0s) Loss: 0.0939 \n",
            "EVAL: [0/169]Elapsed 0m 0s (remain 0m 56s)Loss: 0.0106\n",
            "EVAL: [100/169]Elapsed 0m 16s (remain 0m 11s)Loss: 0.0743\n",
            "EVAL: [168/169]Elapsed 0m 27s (remain 0m 0s)Loss: 0.0799\n"
          ],
          "name": "stdout"
        },
        {
          "output_type": "stream",
          "text": [
            "Epoch 1 - avg_train_loss: 0.0939  avg_val_loss: 0.0799  time: 390s\n",
            "Epoch 1 - Score: 0.6062001227747084\n",
            "Epoch 1 - Save Best Score: 0.6062 Model\n",
            "========== fold: 2 result ==========\n",
            "Score: 0.60620\n",
            "========== fold: 3 training ==========\n"
          ],
          "name": "stderr"
        },
        {
          "output_type": "stream",
          "text": [
            "Best_Threshold：0.01082021538809176\n"
          ],
          "name": "stdout"
        },
        {
          "output_type": "stream",
          "text": [
            "Some weights of the model checkpoint at roberta-base were not used when initializing RobertaForSequenceClassification: ['lm_head.layer_norm.bias', 'lm_head.bias', 'roberta.pooler.dense.bias', 'lm_head.layer_norm.weight', 'lm_head.dense.weight', 'lm_head.decoder.weight', 'lm_head.dense.bias', 'roberta.pooler.dense.weight']\n",
            "- This IS expected if you are initializing RobertaForSequenceClassification from the checkpoint of a model trained on another task or with another architecture (e.g. initializing a BertForSequenceClassification model from a BertForPreTraining model).\n",
            "- This IS NOT expected if you are initializing RobertaForSequenceClassification from the checkpoint of a model that you expect to be exactly identical (initializing a BertForSequenceClassification model from a BertForSequenceClassification model).\n",
            "Some weights of RobertaForSequenceClassification were not initialized from the model checkpoint at roberta-base and are newly initialized: ['classifier.dense.weight', 'classifier.out_proj.bias', 'classifier.dense.bias', 'classifier.out_proj.weight']\n",
            "You should probably TRAIN this model on a down-stream task to be able to use it for predictions and inference.\n"
          ],
          "name": "stderr"
        },
        {
          "output_type": "stream",
          "text": [
            "Epoch: [1][0/1345] Elapsed 0m 0s (remain 11m 11s) Loss: 0.7481 \n",
            "Epoch: [1][100/1345] Elapsed 0m 27s (remain 5m 35s) Loss: 0.1679 \n",
            "Epoch: [1][200/1345] Elapsed 0m 54s (remain 5m 8s) Loss: 0.1449 \n",
            "Epoch: [1][300/1345] Elapsed 1m 20s (remain 4m 40s) Loss: 0.1367 \n",
            "Epoch: [1][400/1345] Elapsed 1m 47s (remain 4m 13s) Loss: 0.1304 \n",
            "Epoch: [1][500/1345] Elapsed 2m 14s (remain 3m 47s) Loss: 0.1237 \n",
            "Epoch: [1][600/1345] Elapsed 2m 41s (remain 3m 20s) Loss: 0.1163 \n",
            "Epoch: [1][700/1345] Elapsed 3m 8s (remain 2m 53s) Loss: 0.1110 \n",
            "Epoch: [1][800/1345] Elapsed 3m 35s (remain 2m 26s) Loss: 0.1077 \n",
            "Epoch: [1][900/1345] Elapsed 4m 2s (remain 1m 59s) Loss: 0.1064 \n",
            "Epoch: [1][1000/1345] Elapsed 4m 29s (remain 1m 32s) Loss: 0.1035 \n",
            "Epoch: [1][1100/1345] Elapsed 4m 57s (remain 1m 5s) Loss: 0.1008 \n",
            "Epoch: [1][1200/1345] Elapsed 5m 24s (remain 0m 38s) Loss: 0.0991 \n",
            "Epoch: [1][1300/1345] Elapsed 5m 51s (remain 0m 11s) Loss: 0.0973 \n",
            "Epoch: [1][1344/1345] Elapsed 6m 2s (remain 0m 0s) Loss: 0.0969 \n",
            "EVAL: [0/169]Elapsed 0m 0s (remain 0m 55s)Loss: 0.0450\n",
            "EVAL: [100/169]Elapsed 0m 16s (remain 0m 11s)Loss: 0.0648\n"
          ],
          "name": "stdout"
        },
        {
          "output_type": "stream",
          "text": [
            "Epoch 1 - avg_train_loss: 0.0969  avg_val_loss: 0.0704  time: 391s\n",
            "Epoch 1 - Score: 0.5467068445975032\n",
            "Epoch 1 - Save Best Score: 0.5467 Model\n"
          ],
          "name": "stderr"
        },
        {
          "output_type": "stream",
          "text": [
            "EVAL: [168/169]Elapsed 0m 27s (remain 0m 0s)Loss: 0.0704\n"
          ],
          "name": "stdout"
        },
        {
          "output_type": "stream",
          "text": [
            "========== fold: 3 result ==========\n",
            "Score: 0.54671\n",
            "========== fold: 4 training ==========\n"
          ],
          "name": "stderr"
        },
        {
          "output_type": "stream",
          "text": [
            "Best_Threshold：-42.968245533656194\n"
          ],
          "name": "stdout"
        },
        {
          "output_type": "stream",
          "text": [
            "Some weights of the model checkpoint at roberta-base were not used when initializing RobertaForSequenceClassification: ['lm_head.layer_norm.bias', 'lm_head.bias', 'roberta.pooler.dense.bias', 'lm_head.layer_norm.weight', 'lm_head.dense.weight', 'lm_head.decoder.weight', 'lm_head.dense.bias', 'roberta.pooler.dense.weight']\n",
            "- This IS expected if you are initializing RobertaForSequenceClassification from the checkpoint of a model trained on another task or with another architecture (e.g. initializing a BertForSequenceClassification model from a BertForPreTraining model).\n",
            "- This IS NOT expected if you are initializing RobertaForSequenceClassification from the checkpoint of a model that you expect to be exactly identical (initializing a BertForSequenceClassification model from a BertForSequenceClassification model).\n",
            "Some weights of RobertaForSequenceClassification were not initialized from the model checkpoint at roberta-base and are newly initialized: ['classifier.dense.weight', 'classifier.out_proj.bias', 'classifier.dense.bias', 'classifier.out_proj.weight']\n",
            "You should probably TRAIN this model on a down-stream task to be able to use it for predictions and inference.\n"
          ],
          "name": "stderr"
        },
        {
          "output_type": "stream",
          "text": [
            "Epoch: [1][0/1346] Elapsed 0m 0s (remain 11m 0s) Loss: 0.7306 \n",
            "Epoch: [1][100/1346] Elapsed 0m 27s (remain 5m 36s) Loss: 0.1556 \n",
            "Epoch: [1][200/1346] Elapsed 0m 54s (remain 5m 8s) Loss: 0.1445 \n",
            "Epoch: [1][300/1346] Elapsed 1m 21s (remain 4m 41s) Loss: 0.1254 \n",
            "Epoch: [1][400/1346] Elapsed 1m 48s (remain 4m 14s) Loss: 0.1165 \n",
            "Epoch: [1][500/1346] Elapsed 2m 15s (remain 3m 47s) Loss: 0.1094 \n",
            "Epoch: [1][600/1346] Elapsed 2m 42s (remain 3m 21s) Loss: 0.1125 \n",
            "Epoch: [1][700/1346] Elapsed 3m 9s (remain 2m 54s) Loss: 0.1117 \n",
            "Epoch: [1][800/1346] Elapsed 3m 36s (remain 2m 27s) Loss: 0.1124 \n",
            "Epoch: [1][900/1346] Elapsed 4m 3s (remain 2m 0s) Loss: 0.1140 \n",
            "Epoch: [1][1000/1346] Elapsed 4m 30s (remain 1m 33s) Loss: 0.1146 \n",
            "Epoch: [1][1100/1346] Elapsed 4m 57s (remain 1m 6s) Loss: 0.1159 \n",
            "Epoch: [1][1200/1346] Elapsed 5m 24s (remain 0m 39s) Loss: 0.1142 \n",
            "Epoch: [1][1300/1346] Elapsed 5m 51s (remain 0m 12s) Loss: 0.1141 \n",
            "Epoch: [1][1345/1346] Elapsed 6m 3s (remain 0m 0s) Loss: 0.1129 \n",
            "EVAL: [0/168]Elapsed 0m 0s (remain 0m 54s)Loss: 0.0321\n",
            "EVAL: [100/168]Elapsed 0m 16s (remain 0m 11s)Loss: 0.0894\n"
          ],
          "name": "stdout"
        },
        {
          "output_type": "stream",
          "text": [
            "Epoch 1 - avg_train_loss: 0.1129  avg_val_loss: 0.0850  time: 391s\n",
            "Epoch 1 - Score: 0.5415320115293912\n",
            "Epoch 1 - Save Best Score: 0.5415 Model\n"
          ],
          "name": "stderr"
        },
        {
          "output_type": "stream",
          "text": [
            "EVAL: [167/168]Elapsed 0m 27s (remain 0m 0s)Loss: 0.0850\n"
          ],
          "name": "stdout"
        },
        {
          "output_type": "stream",
          "text": [
            "========== fold: 4 result ==========\n",
            "Score: 0.54153\n",
            "========== CV ==========\n"
          ],
          "name": "stderr"
        },
        {
          "output_type": "stream",
          "text": [
            "Best_Threshold：-42.968245533656194\n"
          ],
          "name": "stdout"
        },
        {
          "output_type": "stream",
          "text": [
            "Score: 0.69579\n"
          ],
          "name": "stderr"
        },
        {
          "output_type": "stream",
          "text": [
            "Best_Threshold：0.009392221621114047\n"
          ],
          "name": "stdout"
        }
      ]
    },
    {
      "cell_type": "code",
      "metadata": {
        "id": "vn-D60_1CVgv",
        "colab": {
          "base_uri": "https://localhost:8080/"
        },
        "outputId": "f7d80d42-a883-4923-d227-d175df1586ef"
      },
      "source": [
        "# inference, submit\n",
        "# border を出力できるようにしたい\n",
        "best_border = 0.01345288158374535\n",
        "predictions = inference()\n",
        "predictions = np.where(predictions < best_border, 0, 1)\n",
        "\n",
        "# submission\n",
        "sub[\"judgement\"] = predictions\n",
        "sub.to_csv(submission_dir +CONFIG.exp+ \"_submission.csv\", index=False, header=False)"
      ],
      "execution_count": null,
      "outputs": [
        {
          "output_type": "stream",
          "text": [
            "========== model: GanjinZero/UMLSBert_ENG fold: 0 inference ==========\n",
            "Some weights of BertForSequenceClassification were not initialized from the model checkpoint at GanjinZero/UMLSBert_ENG and are newly initialized: ['classifier.weight', 'classifier.bias']\n",
            "You should probably TRAIN this model on a down-stream task to be able to use it for predictions and inference.\n",
            "100%|██████████| 1277/1277 [03:35<00:00,  5.93it/s]\n",
            "========== model: GanjinZero/UMLSBert_ENG fold: 1 inference ==========\n",
            "Some weights of BertForSequenceClassification were not initialized from the model checkpoint at GanjinZero/UMLSBert_ENG and are newly initialized: ['classifier.weight', 'classifier.bias']\n",
            "You should probably TRAIN this model on a down-stream task to be able to use it for predictions and inference.\n",
            "100%|██████████| 1277/1277 [03:35<00:00,  5.92it/s]\n",
            "========== model: GanjinZero/UMLSBert_ENG fold: 2 inference ==========\n",
            "Some weights of BertForSequenceClassification were not initialized from the model checkpoint at GanjinZero/UMLSBert_ENG and are newly initialized: ['classifier.weight', 'classifier.bias']\n",
            "You should probably TRAIN this model on a down-stream task to be able to use it for predictions and inference.\n",
            "100%|██████████| 1277/1277 [03:35<00:00,  5.92it/s]\n",
            "========== model: GanjinZero/UMLSBert_ENG fold: 3 inference ==========\n",
            "Some weights of BertForSequenceClassification were not initialized from the model checkpoint at GanjinZero/UMLSBert_ENG and are newly initialized: ['classifier.weight', 'classifier.bias']\n",
            "You should probably TRAIN this model on a down-stream task to be able to use it for predictions and inference.\n",
            "100%|██████████| 1277/1277 [03:35<00:00,  5.92it/s]\n",
            "========== model: GanjinZero/UMLSBert_ENG fold: 4 inference ==========\n",
            "Some weights of BertForSequenceClassification were not initialized from the model checkpoint at GanjinZero/UMLSBert_ENG and are newly initialized: ['classifier.weight', 'classifier.bias']\n",
            "You should probably TRAIN this model on a down-stream task to be able to use it for predictions and inference.\n",
            "100%|██████████| 1277/1277 [03:35<00:00,  5.92it/s]\n"
          ],
          "name": "stderr"
        }
      ]
    },
    {
      "cell_type": "code",
      "metadata": {
        "id": "b3RfBK2O-kdK"
      },
      "source": [
        ""
      ],
      "execution_count": null,
      "outputs": []
    }
  ]
}